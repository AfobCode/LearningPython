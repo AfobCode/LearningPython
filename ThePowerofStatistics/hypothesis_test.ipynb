{
 "cells": [
  {
   "cell_type": "markdown",
   "id": "0ddc6301",
   "metadata": {},
   "source": [
    "# Determine statistical significance\n",
    "\n",
    "A data professional working for a computer company. The company claims the mean battery life for their best selling laptop is 8.5 hours with a standard deviation of 0.5 hours. Recently, the engineering team redesigned the laptop to increase the battery life. The team takes a random sample of 40 redesigned laptops. The sample mean is 8.7 hours. \n",
    "set the significance level to 5%"
   ]
  },
  {
   "cell_type": "markdown",
   "id": "7d2b560c",
   "metadata": {},
   "source": [
    "### Set the Null Hypothesis and the alternative Hypothesis\n",
    "\n",
    "H0 = 8.5h The mean battery life is equal to 8.5 hours\n",
    "H1 > 8.5 The mean battery life is higher than 8.5 hours"
   ]
  },
  {
   "cell_type": "code",
   "execution_count": 1,
   "id": "26011342",
   "metadata": {},
   "outputs": [],
   "source": [
    "import scipy.stats as sts\n",
    "import math "
   ]
  },
  {
   "cell_type": "code",
   "execution_count": 2,
   "id": "b3af0ff2",
   "metadata": {},
   "outputs": [],
   "source": [
    "# Set the significance level\n",
    "\n",
    "significance_level = 0.05\n",
    "\n",
    "# Problem initial information: \n",
    "\n",
    "population_mean = 8.5\n",
    "population_std = 0.5\n",
    "sample_size = 40\n",
    "sample_mean = 8.7"
   ]
  },
  {
   "cell_type": "code",
   "execution_count": 5,
   "id": "c5bff20a",
   "metadata": {},
   "outputs": [
    {
     "name": "stdout",
     "output_type": "stream",
     "text": [
      "0.079\n",
      "2.530\n",
      "0.0057\n"
     ]
    }
   ],
   "source": [
    "# Calculate the standard_error\n",
    "standard_error = population_std / (sample_size**0.5)\n",
    "\n",
    "# Calculate the z-score\n",
    "\n",
    "z_score = (8.7 - 8.5)/standard_error\n",
    "p_value = 1 - sts.norm.cdf(z_score)\n",
    "\n",
    "print(f\"{standard_error:.3f}\")\n",
    "print(f\"{z_score:.3f}\")\n",
    "print(f\"{p_value:.4f}\")"
   ]
  },
  {
   "cell_type": "markdown",
   "id": "32cf533a",
   "metadata": {},
   "source": [
    "p_value < significance level, => Reject the null hypothesis \n",
    "### For this example the result is statistically significant that the event does not occur by chance. "
   ]
  }
 ],
 "metadata": {
  "kernelspec": {
   "display_name": "Python 3",
   "language": "python",
   "name": "python3"
  },
  "language_info": {
   "codemirror_mode": {
    "name": "ipython",
    "version": 3
   },
   "file_extension": ".py",
   "mimetype": "text/x-python",
   "name": "python",
   "nbconvert_exporter": "python",
   "pygments_lexer": "ipython3",
   "version": "3.13.7"
  }
 },
 "nbformat": 4,
 "nbformat_minor": 5
}
