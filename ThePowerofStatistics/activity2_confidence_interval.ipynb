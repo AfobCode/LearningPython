{
 "cells": [
  {
   "cell_type": "markdown",
   "id": "1cba0ec5",
   "metadata": {},
   "source": [
    "The Air Quality Index (AQI) is the Environmental Protection Agency's index for reporting air quality. A value close to 0 signals little to no public health concern, while higher values are associated with increased risk to public health. The United States is considering a new federal policy that would create a subsidy for renewable energy in states observing an average AQI of 10 or above.\n",
    "\n",
    "The Strategy division of Ripple Renewable Energy (RRE). RRE operates in the following U.S. states: California, Florida, Michigan, Ohio, Pennsylvania, Texas. Constructing an analysis which identifies which of these states are most likely to be affected, should the new federal policy be enacted.\n",
    "\n",
    "Your manager has requested that you do the following for your analysis:\n",
    "\n",
    "* Provide a summary of the mean AQI for the states in which RRE operates.\n",
    "* Construct a boxplot visualization for AQI of these states using seaborn.\n",
    "* Evaluate which state(s) may be most affected by this policy, based on the data and your boxplot visualization.\n",
    "* Construct a confidence interval for the RRE state with the highest mean AQI."
   ]
  },
  {
   "cell_type": "code",
   "execution_count": 11,
   "id": "521e0093",
   "metadata": {},
   "outputs": [],
   "source": [
    "# Import relevant packages\n",
    "\n",
    "import numpy as np\n",
    "import pandas as pd\n",
    "import matplotlib.pyplot as plt\n",
    "from scipy import stats\n",
    "import seaborn as sns"
   ]
  },
  {
   "cell_type": "code",
   "execution_count": 3,
   "id": "a04121c2",
   "metadata": {},
   "outputs": [
    {
     "data": {
      "text/html": [
       "<div>\n",
       "<style scoped>\n",
       "    .dataframe tbody tr th:only-of-type {\n",
       "        vertical-align: middle;\n",
       "    }\n",
       "\n",
       "    .dataframe tbody tr th {\n",
       "        vertical-align: top;\n",
       "    }\n",
       "\n",
       "    .dataframe thead th {\n",
       "        text-align: right;\n",
       "    }\n",
       "</style>\n",
       "<table border=\"1\" class=\"dataframe\">\n",
       "  <thead>\n",
       "    <tr style=\"text-align: right;\">\n",
       "      <th></th>\n",
       "      <th>Unnamed: 0</th>\n",
       "      <th>date_local</th>\n",
       "      <th>state_name</th>\n",
       "      <th>county_name</th>\n",
       "      <th>city_name</th>\n",
       "      <th>local_site_name</th>\n",
       "      <th>parameter_name</th>\n",
       "      <th>units_of_measure</th>\n",
       "      <th>arithmetic_mean</th>\n",
       "      <th>aqi</th>\n",
       "    </tr>\n",
       "  </thead>\n",
       "  <tbody>\n",
       "    <tr>\n",
       "      <th>0</th>\n",
       "      <td>0</td>\n",
       "      <td>2018-01-01</td>\n",
       "      <td>Arizona</td>\n",
       "      <td>Maricopa</td>\n",
       "      <td>Buckeye</td>\n",
       "      <td>BUCKEYE</td>\n",
       "      <td>Carbon monoxide</td>\n",
       "      <td>Parts per million</td>\n",
       "      <td>0.473684</td>\n",
       "      <td>7</td>\n",
       "    </tr>\n",
       "    <tr>\n",
       "      <th>1</th>\n",
       "      <td>1</td>\n",
       "      <td>2018-01-01</td>\n",
       "      <td>Ohio</td>\n",
       "      <td>Belmont</td>\n",
       "      <td>Shadyside</td>\n",
       "      <td>Shadyside</td>\n",
       "      <td>Carbon monoxide</td>\n",
       "      <td>Parts per million</td>\n",
       "      <td>0.263158</td>\n",
       "      <td>5</td>\n",
       "    </tr>\n",
       "    <tr>\n",
       "      <th>2</th>\n",
       "      <td>2</td>\n",
       "      <td>2018-01-01</td>\n",
       "      <td>Wyoming</td>\n",
       "      <td>Teton</td>\n",
       "      <td>Not in a city</td>\n",
       "      <td>Yellowstone National Park - Old Faithful Snow ...</td>\n",
       "      <td>Carbon monoxide</td>\n",
       "      <td>Parts per million</td>\n",
       "      <td>0.111111</td>\n",
       "      <td>2</td>\n",
       "    </tr>\n",
       "    <tr>\n",
       "      <th>3</th>\n",
       "      <td>3</td>\n",
       "      <td>2018-01-01</td>\n",
       "      <td>Pennsylvania</td>\n",
       "      <td>Philadelphia</td>\n",
       "      <td>Philadelphia</td>\n",
       "      <td>North East Waste (NEW)</td>\n",
       "      <td>Carbon monoxide</td>\n",
       "      <td>Parts per million</td>\n",
       "      <td>0.300000</td>\n",
       "      <td>3</td>\n",
       "    </tr>\n",
       "    <tr>\n",
       "      <th>4</th>\n",
       "      <td>4</td>\n",
       "      <td>2018-01-01</td>\n",
       "      <td>Iowa</td>\n",
       "      <td>Polk</td>\n",
       "      <td>Des Moines</td>\n",
       "      <td>CARPENTER</td>\n",
       "      <td>Carbon monoxide</td>\n",
       "      <td>Parts per million</td>\n",
       "      <td>0.215789</td>\n",
       "      <td>3</td>\n",
       "    </tr>\n",
       "    <tr>\n",
       "      <th>5</th>\n",
       "      <td>5</td>\n",
       "      <td>2018-01-01</td>\n",
       "      <td>Hawaii</td>\n",
       "      <td>Honolulu</td>\n",
       "      <td>Not in a city</td>\n",
       "      <td>Kapolei</td>\n",
       "      <td>Carbon monoxide</td>\n",
       "      <td>Parts per million</td>\n",
       "      <td>0.994737</td>\n",
       "      <td>14</td>\n",
       "    </tr>\n",
       "    <tr>\n",
       "      <th>6</th>\n",
       "      <td>6</td>\n",
       "      <td>2018-01-01</td>\n",
       "      <td>Hawaii</td>\n",
       "      <td>Honolulu</td>\n",
       "      <td>Not in a city</td>\n",
       "      <td>Kapolei</td>\n",
       "      <td>Carbon monoxide</td>\n",
       "      <td>Parts per million</td>\n",
       "      <td>0.200000</td>\n",
       "      <td>2</td>\n",
       "    </tr>\n",
       "    <tr>\n",
       "      <th>7</th>\n",
       "      <td>7</td>\n",
       "      <td>2018-01-01</td>\n",
       "      <td>Pennsylvania</td>\n",
       "      <td>Erie</td>\n",
       "      <td>Erie</td>\n",
       "      <td>NaN</td>\n",
       "      <td>Carbon monoxide</td>\n",
       "      <td>Parts per million</td>\n",
       "      <td>0.200000</td>\n",
       "      <td>2</td>\n",
       "    </tr>\n",
       "    <tr>\n",
       "      <th>8</th>\n",
       "      <td>8</td>\n",
       "      <td>2018-01-01</td>\n",
       "      <td>Hawaii</td>\n",
       "      <td>Honolulu</td>\n",
       "      <td>Honolulu</td>\n",
       "      <td>Honolulu</td>\n",
       "      <td>Carbon monoxide</td>\n",
       "      <td>Parts per million</td>\n",
       "      <td>0.400000</td>\n",
       "      <td>5</td>\n",
       "    </tr>\n",
       "    <tr>\n",
       "      <th>9</th>\n",
       "      <td>9</td>\n",
       "      <td>2018-01-01</td>\n",
       "      <td>Colorado</td>\n",
       "      <td>Larimer</td>\n",
       "      <td>Fort Collins</td>\n",
       "      <td>Fort Collins - CSU - S. Mason</td>\n",
       "      <td>Carbon monoxide</td>\n",
       "      <td>Parts per million</td>\n",
       "      <td>0.300000</td>\n",
       "      <td>6</td>\n",
       "    </tr>\n",
       "    <tr>\n",
       "      <th>10</th>\n",
       "      <td>10</td>\n",
       "      <td>2018-01-01</td>\n",
       "      <td>Minnesota</td>\n",
       "      <td>Dakota</td>\n",
       "      <td>Rosemount</td>\n",
       "      <td>Flint Hills Refinery 420</td>\n",
       "      <td>Carbon monoxide</td>\n",
       "      <td>Parts per million</td>\n",
       "      <td>0.247368</td>\n",
       "      <td>3</td>\n",
       "    </tr>\n",
       "    <tr>\n",
       "      <th>11</th>\n",
       "      <td>11</td>\n",
       "      <td>2018-01-01</td>\n",
       "      <td>Indiana</td>\n",
       "      <td>Marion</td>\n",
       "      <td>Indianapolis</td>\n",
       "      <td>Indpls.- Illinois St.</td>\n",
       "      <td>Carbon monoxide</td>\n",
       "      <td>Parts per million</td>\n",
       "      <td>0.542105</td>\n",
       "      <td>8</td>\n",
       "    </tr>\n",
       "    <tr>\n",
       "      <th>12</th>\n",
       "      <td>12</td>\n",
       "      <td>2018-01-01</td>\n",
       "      <td>Ohio</td>\n",
       "      <td>Hamilton</td>\n",
       "      <td>Cincinnati</td>\n",
       "      <td>Taft NCore</td>\n",
       "      <td>Carbon monoxide</td>\n",
       "      <td>Parts per million</td>\n",
       "      <td>0.252632</td>\n",
       "      <td>3</td>\n",
       "    </tr>\n",
       "    <tr>\n",
       "      <th>13</th>\n",
       "      <td>13</td>\n",
       "      <td>2018-01-01</td>\n",
       "      <td>Arizona</td>\n",
       "      <td>Maricopa</td>\n",
       "      <td>Mesa</td>\n",
       "      <td>MESA</td>\n",
       "      <td>Carbon monoxide</td>\n",
       "      <td>Parts per million</td>\n",
       "      <td>0.505263</td>\n",
       "      <td>10</td>\n",
       "    </tr>\n",
       "    <tr>\n",
       "      <th>14</th>\n",
       "      <td>14</td>\n",
       "      <td>2018-01-01</td>\n",
       "      <td>Missouri</td>\n",
       "      <td>Jackson</td>\n",
       "      <td>Kansas City</td>\n",
       "      <td>Blue Ridge, I-70</td>\n",
       "      <td>Carbon monoxide</td>\n",
       "      <td>Parts per million</td>\n",
       "      <td>0.233333</td>\n",
       "      <td>5</td>\n",
       "    </tr>\n",
       "  </tbody>\n",
       "</table>\n",
       "</div>"
      ],
      "text/plain": [
       "    Unnamed: 0  date_local    state_name   county_name      city_name  \\\n",
       "0            0  2018-01-01       Arizona      Maricopa        Buckeye   \n",
       "1            1  2018-01-01          Ohio       Belmont      Shadyside   \n",
       "2            2  2018-01-01       Wyoming         Teton  Not in a city   \n",
       "3            3  2018-01-01  Pennsylvania  Philadelphia   Philadelphia   \n",
       "4            4  2018-01-01          Iowa          Polk     Des Moines   \n",
       "5            5  2018-01-01        Hawaii      Honolulu  Not in a city   \n",
       "6            6  2018-01-01        Hawaii      Honolulu  Not in a city   \n",
       "7            7  2018-01-01  Pennsylvania          Erie           Erie   \n",
       "8            8  2018-01-01        Hawaii      Honolulu       Honolulu   \n",
       "9            9  2018-01-01      Colorado       Larimer   Fort Collins   \n",
       "10          10  2018-01-01     Minnesota        Dakota      Rosemount   \n",
       "11          11  2018-01-01       Indiana        Marion   Indianapolis   \n",
       "12          12  2018-01-01          Ohio      Hamilton     Cincinnati   \n",
       "13          13  2018-01-01       Arizona      Maricopa           Mesa   \n",
       "14          14  2018-01-01      Missouri       Jackson    Kansas City   \n",
       "\n",
       "                                      local_site_name   parameter_name  \\\n",
       "0                                             BUCKEYE  Carbon monoxide   \n",
       "1                                           Shadyside  Carbon monoxide   \n",
       "2   Yellowstone National Park - Old Faithful Snow ...  Carbon monoxide   \n",
       "3                              North East Waste (NEW)  Carbon monoxide   \n",
       "4                                           CARPENTER  Carbon monoxide   \n",
       "5                                             Kapolei  Carbon monoxide   \n",
       "6                                             Kapolei  Carbon monoxide   \n",
       "7                                                 NaN  Carbon monoxide   \n",
       "8                                            Honolulu  Carbon monoxide   \n",
       "9                       Fort Collins - CSU - S. Mason  Carbon monoxide   \n",
       "10                           Flint Hills Refinery 420  Carbon monoxide   \n",
       "11                              Indpls.- Illinois St.  Carbon monoxide   \n",
       "12                                         Taft NCore  Carbon monoxide   \n",
       "13                                               MESA  Carbon monoxide   \n",
       "14                                   Blue Ridge, I-70  Carbon monoxide   \n",
       "\n",
       "     units_of_measure  arithmetic_mean  aqi  \n",
       "0   Parts per million         0.473684    7  \n",
       "1   Parts per million         0.263158    5  \n",
       "2   Parts per million         0.111111    2  \n",
       "3   Parts per million         0.300000    3  \n",
       "4   Parts per million         0.215789    3  \n",
       "5   Parts per million         0.994737   14  \n",
       "6   Parts per million         0.200000    2  \n",
       "7   Parts per million         0.200000    2  \n",
       "8   Parts per million         0.400000    5  \n",
       "9   Parts per million         0.300000    6  \n",
       "10  Parts per million         0.247368    3  \n",
       "11  Parts per million         0.542105    8  \n",
       "12  Parts per million         0.252632    3  \n",
       "13  Parts per million         0.505263   10  \n",
       "14  Parts per million         0.233333    5  "
      ]
     },
     "execution_count": 3,
     "metadata": {},
     "output_type": "execute_result"
    }
   ],
   "source": [
    "# Load dataset\n",
    "\n",
    "aqi_raw = pd.read_csv('./Raw_data/c4_epa_air_quality.csv')\n",
    "aqi_raw.head(15)"
   ]
  },
  {
   "cell_type": "code",
   "execution_count": 4,
   "id": "9cb2b249",
   "metadata": {},
   "outputs": [
    {
     "data": {
      "text/html": [
       "<div>\n",
       "<style scoped>\n",
       "    .dataframe tbody tr th:only-of-type {\n",
       "        vertical-align: middle;\n",
       "    }\n",
       "\n",
       "    .dataframe tbody tr th {\n",
       "        vertical-align: top;\n",
       "    }\n",
       "\n",
       "    .dataframe thead th {\n",
       "        text-align: right;\n",
       "    }\n",
       "</style>\n",
       "<table border=\"1\" class=\"dataframe\">\n",
       "  <thead>\n",
       "    <tr style=\"text-align: right;\">\n",
       "      <th></th>\n",
       "      <th>Unnamed: 0</th>\n",
       "      <th>arithmetic_mean</th>\n",
       "      <th>aqi</th>\n",
       "    </tr>\n",
       "  </thead>\n",
       "  <tbody>\n",
       "    <tr>\n",
       "      <th>count</th>\n",
       "      <td>260.000000</td>\n",
       "      <td>260.000000</td>\n",
       "      <td>260.000000</td>\n",
       "    </tr>\n",
       "    <tr>\n",
       "      <th>mean</th>\n",
       "      <td>129.500000</td>\n",
       "      <td>0.403169</td>\n",
       "      <td>6.757692</td>\n",
       "    </tr>\n",
       "    <tr>\n",
       "      <th>std</th>\n",
       "      <td>75.199734</td>\n",
       "      <td>0.317902</td>\n",
       "      <td>7.061707</td>\n",
       "    </tr>\n",
       "    <tr>\n",
       "      <th>min</th>\n",
       "      <td>0.000000</td>\n",
       "      <td>0.000000</td>\n",
       "      <td>0.000000</td>\n",
       "    </tr>\n",
       "    <tr>\n",
       "      <th>25%</th>\n",
       "      <td>64.750000</td>\n",
       "      <td>0.200000</td>\n",
       "      <td>2.000000</td>\n",
       "    </tr>\n",
       "    <tr>\n",
       "      <th>50%</th>\n",
       "      <td>129.500000</td>\n",
       "      <td>0.276315</td>\n",
       "      <td>5.000000</td>\n",
       "    </tr>\n",
       "    <tr>\n",
       "      <th>75%</th>\n",
       "      <td>194.250000</td>\n",
       "      <td>0.516009</td>\n",
       "      <td>9.000000</td>\n",
       "    </tr>\n",
       "    <tr>\n",
       "      <th>max</th>\n",
       "      <td>259.000000</td>\n",
       "      <td>1.921053</td>\n",
       "      <td>50.000000</td>\n",
       "    </tr>\n",
       "  </tbody>\n",
       "</table>\n",
       "</div>"
      ],
      "text/plain": [
       "       Unnamed: 0  arithmetic_mean         aqi\n",
       "count  260.000000       260.000000  260.000000\n",
       "mean   129.500000         0.403169    6.757692\n",
       "std     75.199734         0.317902    7.061707\n",
       "min      0.000000         0.000000    0.000000\n",
       "25%     64.750000         0.200000    2.000000\n",
       "50%    129.500000         0.276315    5.000000\n",
       "75%    194.250000         0.516009    9.000000\n",
       "max    259.000000         1.921053   50.000000"
      ]
     },
     "execution_count": 4,
     "metadata": {},
     "output_type": "execute_result"
    }
   ],
   "source": [
    "# Data Exploration\n",
    "\n",
    "aqi_raw.describe()"
   ]
  },
  {
   "cell_type": "code",
   "execution_count": 6,
   "id": "eac7617f",
   "metadata": {},
   "outputs": [
    {
     "data": {
      "text/plain": [
       "count            260\n",
       "unique             1\n",
       "top       2018-01-01\n",
       "freq             260\n",
       "Name: date_local, dtype: object"
      ]
     },
     "execution_count": 6,
     "metadata": {},
     "output_type": "execute_result"
    }
   ],
   "source": [
    "aqi_raw[\"date_local\"].describe()"
   ]
  },
  {
   "cell_type": "code",
   "execution_count": 7,
   "id": "13891bc3",
   "metadata": {},
   "outputs": [
    {
     "data": {
      "text/plain": [
       "count                    260\n",
       "mean     2018-01-01 00:00:00\n",
       "min      2018-01-01 00:00:00\n",
       "25%      2018-01-01 00:00:00\n",
       "50%      2018-01-01 00:00:00\n",
       "75%      2018-01-01 00:00:00\n",
       "max      2018-01-01 00:00:00\n",
       "Name: date_local, dtype: object"
      ]
     },
     "execution_count": 7,
     "metadata": {},
     "output_type": "execute_result"
    }
   ],
   "source": [
    "aqi_raw[\"date_local\"] = pd.to_datetime(aqi_raw[\"date_local\"])\n",
    "aqi_raw[\"date_local\"].describe()"
   ]
  },
  {
   "cell_type": "code",
   "execution_count": 8,
   "id": "9dde08fa",
   "metadata": {},
   "outputs": [
    {
     "data": {
      "text/plain": [
       "state_name\n",
       "Alabama                  1\n",
       "Alaska                   2\n",
       "Arizona                 14\n",
       "Arkansas                 1\n",
       "California              66\n",
       "Colorado                 9\n",
       "Connecticut              4\n",
       "Delaware                 1\n",
       "District Of Columbia     2\n",
       "Florida                 12\n",
       "Georgia                  2\n",
       "Hawaii                   3\n",
       "Idaho                    2\n",
       "Illinois                 3\n",
       "Indiana                  5\n",
       "Iowa                     3\n",
       "Kansas                   1\n",
       "Kentucky                 3\n",
       "Louisiana                1\n",
       "Maine                    2\n",
       "Maryland                 4\n",
       "Massachusetts            4\n",
       "Michigan                 9\n",
       "Minnesota                7\n",
       "Mississippi              1\n",
       "Missouri                 3\n",
       "Montana                  2\n",
       "Nebraska                 2\n",
       "Nevada                   4\n",
       "New Hampshire            2\n",
       "New Jersey               6\n",
       "New Mexico               2\n",
       "New York                10\n",
       "North Carolina           4\n",
       "North Dakota             1\n",
       "Ohio                    12\n",
       "Oklahoma                 4\n",
       "Oregon                   2\n",
       "Pennsylvania            10\n",
       "Puerto Rico              1\n",
       "Rhode Island             2\n",
       "South Carolina           1\n",
       "South Dakota             1\n",
       "Tennessee                2\n",
       "Texas                   10\n",
       "Utah                     3\n",
       "Vermont                  3\n",
       "Virginia                 4\n",
       "Washington               2\n",
       "West Virginia            1\n",
       "Wisconsin                1\n",
       "Wyoming                  3\n",
       "Name: city_name, dtype: int64"
      ]
     },
     "execution_count": 8,
     "metadata": {},
     "output_type": "execute_result"
    }
   ],
   "source": [
    "aqi_raw.groupby(\"state_name\")[\"city_name\"].count()"
   ]
  },
  {
   "cell_type": "code",
   "execution_count": 9,
   "id": "92d95880",
   "metadata": {},
   "outputs": [
    {
     "data": {
      "text/plain": [
       "np.float64(8.6975)"
      ]
     },
     "execution_count": 9,
     "metadata": {},
     "output_type": "execute_result"
    }
   ],
   "source": [
    "# Statiscal Test \n",
    "\n",
    "# Summarize the mean AQI for RRE states.\n",
    "\n",
    "# Create a list of RRE states.\n",
    "RRE_states = [\"California\", \"Florida\", \"Michigan\", \"Ohio\", \"Pennsylvania\", \"Texas\"]\n",
    "\n",
    "# Subset `aqi` to only consider these states.\n",
    "aqi_RRE_states = aqi_raw[ aqi_raw[\"state_name\"].isin(RRE_states)]\n",
    "aqi_RRE_states.head()\n",
    "# Find the mean aqi for each of the RRE states.\n",
    "aqi_RRE_mean = round(aqi_RRE_states[\"aqi\"].mean(),4)\n",
    "aqi_RRE_mean"
   ]
  },
  {
   "cell_type": "code",
   "execution_count": 12,
   "id": "a4bbb9e4",
   "metadata": {},
   "outputs": [
    {
     "data": {
      "text/plain": [
       "<Axes: xlabel='state_name', ylabel='aqi'>"
      ]
     },
     "execution_count": 12,
     "metadata": {},
     "output_type": "execute_result"
    },
    {
     "data": {
      "image/png": "[encoded data removed]",
      "text/plain": [
       "<Figure size 640x480 with 1 Axes>"
      ]
     },
     "metadata": {},
     "output_type": "display_data"
    }
   ],
   "source": [
    "sns.boxplot(\n",
    "    data= aqi_RRE_states,\n",
    "    x = \"state_name\",\n",
    "    y = \"aqi\"\n",
    ")\n"
   ]
  },
  {
   "cell_type": "markdown",
   "id": "e941698b",
   "metadata": {},
   "source": [
    "# Construct a confidence interval for the RRE state with the highest mean AQI"
   ]
  },
  {
   "cell_type": "code",
   "execution_count": 13,
   "id": "752aa342",
   "metadata": {},
   "outputs": [
    {
     "data": {
      "text/plain": [
       "np.float64(12.121212121212121)"
      ]
     },
     "execution_count": 13,
     "metadata": {},
     "output_type": "execute_result"
    }
   ],
   "source": [
    "# Find the mean aqi for your state.\n",
    "\n",
    "california_aqi_mean = aqi_raw[ aqi_raw[\"state_name\"] == \"California\"][\"aqi\"].mean()\n",
    "california_aqi_mean"
   ]
  },
  {
   "cell_type": "code",
   "execution_count": 14,
   "id": "eeec5820",
   "metadata": {},
   "outputs": [
    {
     "name": "stdout",
     "output_type": "stream",
     "text": [
      "0.8987209641127412\n"
     ]
    },
    {
     "data": {
      "text/plain": [
       "np.float64(1.7614930896609726)"
      ]
     },
     "execution_count": 14,
     "metadata": {},
     "output_type": "execute_result"
    }
   ],
   "source": [
    "# Calculate your margin of error.\n",
    "\n",
    "# Begin by identifying the z associated with your chosen confidence level.\n",
    "cl = 0.95\n",
    "z_score = 1.96\n",
    "\n",
    "# Next, calculate your standard error.\n",
    "std_error = aqi_raw[ aqi_raw[\"state_name\"] == \"California\"][\"aqi\"].std() / (aqi_raw[ aqi_raw[\"state_name\"] == \"California\"].shape[0]**0.5)\n",
    "print(std_error)\n",
    "\n",
    "# Lastly, use the preceding result to calculate your margin of error.\n",
    "margin_of_error = z_score * std_error\n",
    "margin_of_error"
   ]
  },
  {
   "cell_type": "code",
   "execution_count": 15,
   "id": "721a5dd5",
   "metadata": {},
   "outputs": [
    {
     "name": "stdout",
     "output_type": "stream",
     "text": [
      "The 95% confidence level: [10.36,13.88]\n"
     ]
    }
   ],
   "source": [
    "# Calculate your confidence interval (upper and lower limits).\n",
    "\n",
    "upper_limit = california_aqi_mean + margin_of_error\n",
    "lower_limit = california_aqi_mean - margin_of_error\n",
    "\n",
    "print(f\"The 95% confidence level: [{lower_limit:.2f},{upper_limit:.2f}]\")"
   ]
  },
  {
   "cell_type": "markdown",
   "id": "fb23d511",
   "metadata": {},
   "source": [
    "# Alternative: Construct the interval using scipy.stats.norm.interval()"
   ]
  },
  {
   "cell_type": "code",
   "execution_count": 18,
   "id": "97bfed3a",
   "metadata": {},
   "outputs": [
    {
     "name": "stdout",
     "output_type": "stream",
     "text": [
      "The 95% confidence level: [10.36,13.88]\n"
     ]
    }
   ],
   "source": [
    "lower_limit , upper_limit = stats.norm.interval(confidence=0.95,loc=california_aqi_mean,scale=std_error)\n",
    "print(f\"The 95% confidence level: [{lower_limit:.2f},{upper_limit:.2f}]\")"
   ]
  }
 ],
 "metadata": {
  "kernelspec": {
   "display_name": "Python 3",
   "language": "python",
   "name": "python3"
  },
  "language_info": {
   "codemirror_mode": {
    "name": "ipython",
    "version": 3
   },
   "file_extension": ".py",
   "mimetype": "text/x-python",
   "name": "python",
   "nbconvert_exporter": "python",
   "pygments_lexer": "ipython3",
   "version": "3.13.7"
  }
 },
 "nbformat": 4,
 "nbformat_minor": 5
}
