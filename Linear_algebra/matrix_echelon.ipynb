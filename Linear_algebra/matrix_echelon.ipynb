{
 "cells": [
  {
   "cell_type": "code",
   "execution_count": 2,
   "id": "568b5b6e",
   "metadata": {},
   "outputs": [],
   "source": [
    "import numpy as np"
   ]
  },
  {
   "cell_type": "code",
   "execution_count": 26,
   "id": "af41ccb2",
   "metadata": {},
   "outputs": [],
   "source": [
    "A = np.array([\n",
    "        [2, 0, 0, 0],\n",
    "        [3, 3, 0, 0],\n",
    "        [4, 4, 4, 4],\n",
    "        [0, 0, 5, 5]\n",
    "    ], dtype=np.float64)"
   ]
  },
  {
   "cell_type": "code",
   "execution_count": 5,
   "id": "568900d6",
   "metadata": {},
   "outputs": [
    {
     "data": {
      "text/plain": [
       "array([2., 0., 0., 0.])"
      ]
     },
     "execution_count": 5,
     "metadata": {},
     "output_type": "execute_result"
    }
   ],
   "source": [
    "A[0]"
   ]
  },
  {
   "cell_type": "code",
   "execution_count": 6,
   "id": "12b47e43",
   "metadata": {},
   "outputs": [
    {
     "data": {
      "text/plain": [
       "np.float64(5.0)"
      ]
     },
     "execution_count": 6,
     "metadata": {},
     "output_type": "execute_result"
    }
   ],
   "source": [
    "A[3,2]"
   ]
  },
  {
   "cell_type": "code",
   "execution_count": 27,
   "id": "efacb32c",
   "metadata": {},
   "outputs": [],
   "source": [
    "class MatrixIsSingular(Exception): pass\n",
    "\n",
    "def fixRowZero(A) :\n",
    "    if A[0,0] == 0 :\n",
    "        print(f\"first if {A}\")\n",
    "        A[0] = A[0] + A[1]\n",
    "        print(f\"Operation A[0]+[A1] performed {A[0]}\")\n",
    "        print(\"*\"*20)\n",
    "        \n",
    "    if A[0,0] == 0 :\n",
    "        A[0] = A[0] + A[2]\n",
    "    if A[0,0] == 0 :\n",
    "        A[0] = A[0] + A[3]\n",
    "    if A[0,0] == 0 :\n",
    "        raise MatrixIsSingular()\n",
    "    \n",
    "    print(\"*\"*10)\n",
    "    print(A[0])\n",
    "    A[0] = A[0] / A[0,0]\n",
    "    print(\"*\"*10)\n",
    "    print(A[0])\n",
    "    \n",
    "    print(A)\n",
    "    return A\n",
    "\n",
    "def fixRowOne(A) :\n",
    "    A[1] = A[1] - A[1,0] * A[0]\n",
    "    if A[1,1] == 0 :\n",
    "        A[1] = A[1] + A[2]\n",
    "        A[1] = A[1] - A[1,0] * A[0]\n",
    "    if A[1,1] == 0 :\n",
    "        A[1] = A[1] + A[3]\n",
    "        A[1] = A[1] - A[1,0] * A[0]\n",
    "    if A[1,1] == 0 :\n",
    "        raise MatrixIsSingular()\n",
    "    A[1] = A[1] / A[1,1]\n",
    "    return A\n"
   ]
  },
  {
   "cell_type": "code",
   "execution_count": 28,
   "id": "08dc2467",
   "metadata": {},
   "outputs": [
    {
     "name": "stdout",
     "output_type": "stream",
     "text": [
      "**********\n",
      "[2. 0. 0. 0.]\n",
      "**********\n",
      "[1. 0. 0. 0.]\n",
      "[[1. 0. 0. 0.]\n",
      " [3. 3. 0. 0.]\n",
      " [4. 4. 4. 4.]\n",
      " [0. 0. 5. 5.]]\n"
     ]
    },
    {
     "data": {
      "text/plain": [
       "array([[1., 0., 0., 0.],\n",
       "       [3., 3., 0., 0.],\n",
       "       [4., 4., 4., 4.],\n",
       "       [0., 0., 5., 5.]])"
      ]
     },
     "execution_count": 28,
     "metadata": {},
     "output_type": "execute_result"
    }
   ],
   "source": [
    "fixRowZero(A)\n"
   ]
  },
  {
   "cell_type": "code",
   "execution_count": 30,
   "id": "8b16f041",
   "metadata": {},
   "outputs": [
    {
     "name": "stdout",
     "output_type": "stream",
     "text": [
      "[[1. 0. 0. 0.]\n",
      " [3. 3. 0. 0.]\n",
      " [4. 4. 4. 4.]\n",
      " [0. 0. 5. 5.]]\n",
      "==========\n"
     ]
    },
    {
     "data": {
      "text/plain": [
       "array([[1., 0., 0., 0.],\n",
       "       [0., 1., 0., 0.],\n",
       "       [4., 4., 4., 4.],\n",
       "       [0., 0., 5., 5.]])"
      ]
     },
     "execution_count": 30,
     "metadata": {},
     "output_type": "execute_result"
    }
   ],
   "source": [
    "print(A)\n",
    "print(\"=\"*10)\n",
    "fixRowOne(A)"
   ]
  },
  {
   "cell_type": "code",
   "execution_count": 29,
   "id": "6b2a4be9",
   "metadata": {},
   "outputs": [],
   "source": [
    "def fixRowTwo(A) :\n",
    "    # Insert code below to set the sub-diagonal elements of row two to zero (there are two of them).\n",
    "    A[2] = A[2] - A[2,0] * A[0]\n",
    "    A[2] = A[2] - A[2,1] * A[1]\n",
    "    \n",
    "    # Next we'll test that the diagonal element is not zero.\n",
    "    if A[2,2] == 0 :\n",
    "        A[2] = A[2] + A[3]\n",
    "        A[2] = A[2] - A[2,0] * A[0]\n",
    "        A[2] = A[2] - A[2,1] * A[1]\n",
    "        \n",
    "        \n",
    "    if A[2,2] == 0 :\n",
    "        raise MatrixIsSingular()\n",
    "    # Finally set the diagonal element to one by dividing the whole row by that element.\n",
    "    \n",
    "    A[2] = A[2]/A[2,2]\n",
    "    \n",
    "    return A"
   ]
  },
  {
   "cell_type": "code",
   "execution_count": 31,
   "id": "2af8078d",
   "metadata": {},
   "outputs": [
    {
     "data": {
      "text/plain": [
       "array([[1., 0., 0., 0.],\n",
       "       [0., 1., 0., 0.],\n",
       "       [0., 0., 1., 1.],\n",
       "       [0., 0., 5., 5.]])"
      ]
     },
     "execution_count": 31,
     "metadata": {},
     "output_type": "execute_result"
    }
   ],
   "source": [
    "fixRowTwo(A)"
   ]
  },
  {
   "cell_type": "code",
   "execution_count": null,
   "id": "3c6fcb4f",
   "metadata": {},
   "outputs": [],
   "source": [
    "def fixRowThree(A) :\n",
    "    # Insert code below to set the sub-diagonal elements of row three to zero.\n",
    "    A[3] = A[3] - A[3,0] * A[0]\n",
    "    A[3] = A[3] - A[3,1] * A[1]\n",
    "    A[3] = A[3] - A[3,2] * A[2]\n",
    "    \n",
    "    \n",
    "    # Complete the if statement to test if the diagonal element is zero.\n",
    "    if A[3,3] == 0:\n",
    "        raise MatrixIsSingular()\n",
    "    # Transform the row to set the diagonal element to one.\n",
    "    \n",
    "    A[3] = A[3]/A[3,3]\n",
    "    \n",
    "    return A"
   ]
  },
  {
   "cell_type": "code",
   "execution_count": 34,
   "id": "8a518a47",
   "metadata": {},
   "outputs": [
    {
     "data": {
      "text/plain": [
       "np.float64(0.0)"
      ]
     },
     "execution_count": 34,
     "metadata": {},
     "output_type": "execute_result"
    }
   ],
   "source": [
    "A[3,3]"
   ]
  },
  {
   "cell_type": "code",
   "execution_count": 37,
   "id": "cf7c9a32",
   "metadata": {},
   "outputs": [
    {
     "name": "stdout",
     "output_type": "stream",
     "text": [
      "**********\n",
      "[2. 0. 0. 0.]\n",
      "**********\n",
      "[1. 0. 0. 0.]\n",
      "[[1. 0. 0. 0.]\n",
      " [0. 3. 0. 0.]\n",
      " [0. 0. 4. 4.]\n",
      " [0. 0. 5. 5.]]\n"
     ]
    },
    {
     "data": {
      "text/plain": [
       "True"
      ]
     },
     "execution_count": 37,
     "metadata": {},
     "output_type": "execute_result"
    }
   ],
   "source": [
    "def isSingular(A) :\n",
    "    B = np.array(A, dtype=np.float64) # Make B as a copy of A, since we're going to alter it's values.\n",
    "    try:\n",
    "        fixRowZero(B)\n",
    "        fixRowOne(B)\n",
    "        fixRowTwo(B)\n",
    "        fixRowThree(B)\n",
    "    except MatrixIsSingular:\n",
    "        return True\n",
    "    return False\n",
    "\n",
    "A = np.array([\n",
    "        [2, 0, 0, 0],\n",
    "        [0, 3, 0, 0],\n",
    "        [0, 0, 4, 4],\n",
    "        [0, 0, 5, 5]\n",
    "    ], dtype=np.float64)\n",
    "isSingular(A)"
   ]
  },
  {
   "cell_type": "code",
   "execution_count": 38,
   "id": "09556d73",
   "metadata": {},
   "outputs": [
    {
     "name": "stdout",
     "output_type": "stream",
     "text": [
      "first if [[ 0.  7. -5.  3.]\n",
      " [ 2.  8.  0.  4.]\n",
      " [ 3. 12.  0.  5.]\n",
      " [ 1.  3.  1.  3.]]\n",
      "Operation A[0]+[A1] performed [ 2. 15. -5.  7.]\n",
      "********************\n",
      "**********\n",
      "[ 2. 15. -5.  7.]\n",
      "**********\n",
      "[ 1.   7.5 -2.5  3.5]\n",
      "[[ 1.   7.5 -2.5  3.5]\n",
      " [ 2.   8.   0.   4. ]\n",
      " [ 3.  12.   0.   5. ]\n",
      " [ 1.   3.   1.   3. ]]\n"
     ]
    },
    {
     "data": {
      "text/plain": [
       "array([[ 1. ,  7.5, -2.5,  3.5],\n",
       "       [ 2. ,  8. ,  0. ,  4. ],\n",
       "       [ 3. , 12. ,  0. ,  5. ],\n",
       "       [ 1. ,  3. ,  1. ,  3. ]])"
      ]
     },
     "execution_count": 38,
     "metadata": {},
     "output_type": "execute_result"
    }
   ],
   "source": [
    "A = np.array([\n",
    "        [0, 7, -5, 3],\n",
    "        [2, 8, 0, 4],\n",
    "        [3, 12, 0, 5],\n",
    "        [1, 3, 1, 3]\n",
    "    ], dtype=np.float64)\n",
    "fixRowZero(A)"
   ]
  },
  {
   "cell_type": "code",
   "execution_count": 39,
   "id": "a1af10d1",
   "metadata": {},
   "outputs": [
    {
     "data": {
      "text/plain": [
       "array([[ 1.        ,  7.5       , -2.5       ,  3.5       ],\n",
       "       [-0.        ,  1.        , -0.71428571,  0.42857143],\n",
       "       [ 3.        , 12.        ,  0.        ,  5.        ],\n",
       "       [ 1.        ,  3.        ,  1.        ,  3.        ]])"
      ]
     },
     "execution_count": 39,
     "metadata": {},
     "output_type": "execute_result"
    }
   ],
   "source": [
    "fixRowOne(A)"
   ]
  },
  {
   "cell_type": "code",
   "execution_count": 40,
   "id": "b948ec4d",
   "metadata": {},
   "outputs": [
    {
     "data": {
      "text/plain": [
       "array([[ 1.        ,  7.5       , -2.5       ,  3.5       ],\n",
       "       [-0.        ,  1.        , -0.71428571,  0.42857143],\n",
       "       [ 0.        ,  0.        ,  1.        ,  1.5       ],\n",
       "       [ 1.        ,  3.        ,  1.        ,  3.        ]])"
      ]
     },
     "execution_count": 40,
     "metadata": {},
     "output_type": "execute_result"
    }
   ],
   "source": [
    "fixRowTwo(A)"
   ]
  },
  {
   "cell_type": "code",
   "execution_count": 41,
   "id": "39eb0b52",
   "metadata": {},
   "outputs": [
    {
     "data": {
      "text/plain": [
       "array([[ 1.        ,  7.5       , -2.5       ,  3.5       ],\n",
       "       [-0.        ,  1.        , -0.71428571,  0.42857143],\n",
       "       [ 0.        ,  0.        ,  1.        ,  1.5       ],\n",
       "       [ 0.        ,  0.        ,  0.        ,  1.        ]])"
      ]
     },
     "execution_count": 41,
     "metadata": {},
     "output_type": "execute_result"
    }
   ],
   "source": [
    "fixRowThree(A)"
   ]
  }
 ],
 "metadata": {
  "kernelspec": {
   "display_name": "Python 3",
   "language": "python",
   "name": "python3"
  },
  "language_info": {
   "codemirror_mode": {
    "name": "ipython",
    "version": 3
   },
   "file_extension": ".py",
   "mimetype": "text/x-python",
   "name": "python",
   "nbconvert_exporter": "python",
   "pygments_lexer": "ipython3",
   "version": "3.12.10"
  }
 },
 "nbformat": 4,
 "nbformat_minor": 5
}
