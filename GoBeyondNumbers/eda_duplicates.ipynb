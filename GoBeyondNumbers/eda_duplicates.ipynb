{
 "cells": [
  {
   "cell_type": "code",
   "execution_count": 3,
   "id": "b4778208",
   "metadata": {},
   "outputs": [],
   "source": [
    "import pandas as pd \n",
    "import numpy as np\n",
    "import datetime as dt\n",
    "import matplotlib.pyplot as plt\n",
    "import seaborn as sns\n",
    "import plotly.express as px"
   ]
  },
  {
   "cell_type": "code",
   "execution_count": 1,
   "id": "8bef4f8e",
   "metadata": {},
   "outputs": [
    {
     "name": "stdout",
     "output_type": "stream",
     "text": [
      "Defaulting to user installation because normal site-packages is not writeable\n",
      "Collecting plotly\n",
      "  Downloading plotly-6.0.1-py3-none-any.whl.metadata (6.7 kB)\n",
      "Collecting narwhals>=1.15.1 (from plotly)\n",
      "  Downloading narwhals-1.37.1-py3-none-any.whl.metadata (9.3 kB)\n",
      "Requirement already satisfied: packaging in c:\\users\\equipo\\appdata\\local\\packages\\pythonsoftwarefoundation.python.3.12_qbz5n2kfra8p0\\localcache\\local-packages\\python312\\site-packages (from plotly) (24.2)\n",
      "Downloading plotly-6.0.1-py3-none-any.whl (14.8 MB)\n",
      "   ---------------------------------------- 0.0/14.8 MB ? eta -:--:--\n",
      "   - -------------------------------------- 0.6/14.8 MB 13.5 MB/s eta 0:00:02\n",
      "   --- ------------------------------------ 1.2/14.8 MB 13.1 MB/s eta 0:00:02\n",
      "   ---- ----------------------------------- 1.8/14.8 MB 12.9 MB/s eta 0:00:02\n",
      "   ------ --------------------------------- 2.4/14.8 MB 12.8 MB/s eta 0:00:01\n",
      "   -------- ------------------------------- 3.0/14.8 MB 12.8 MB/s eta 0:00:01\n",
      "   --------- ------------------------------ 3.6/14.8 MB 12.1 MB/s eta 0:00:01\n",
      "   ----------- ---------------------------- 4.2/14.8 MB 12.2 MB/s eta 0:00:01\n",
      "   ------------ --------------------------- 4.8/14.8 MB 12.2 MB/s eta 0:00:01\n",
      "   -------------- ------------------------- 5.4/14.8 MB 12.3 MB/s eta 0:00:01\n",
      "   --------------- ------------------------ 5.8/14.8 MB 12.0 MB/s eta 0:00:01\n",
      "   ----------------- ---------------------- 6.6/14.8 MB 11.7 MB/s eta 0:00:01\n",
      "   ------------------- -------------------- 7.3/14.8 MB 11.7 MB/s eta 0:00:01\n",
      "   --------------------- ------------------ 8.1/14.8 MB 11.8 MB/s eta 0:00:01\n",
      "   ----------------------- ---------------- 8.6/14.8 MB 11.5 MB/s eta 0:00:01\n",
      "   ------------------------- -------------- 9.5/14.8 MB 11.9 MB/s eta 0:00:01\n",
      "   -------------------------- ------------- 9.9/14.8 MB 11.9 MB/s eta 0:00:01\n",
      "   ---------------------------- ----------- 10.6/14.8 MB 11.7 MB/s eta 0:00:01\n",
      "   ------------------------------ --------- 11.1/14.8 MB 11.7 MB/s eta 0:00:01\n",
      "   ------------------------------- -------- 11.6/14.8 MB 11.7 MB/s eta 0:00:01\n",
      "   -------------------------------- ------- 12.1/14.8 MB 11.5 MB/s eta 0:00:01\n",
      "   ---------------------------------- ----- 12.7/14.8 MB 11.7 MB/s eta 0:00:01\n",
      "   ----------------------------------- ---- 13.2/14.8 MB 11.7 MB/s eta 0:00:01\n",
      "   ------------------------------------- -- 13.7/14.8 MB 11.7 MB/s eta 0:00:01\n",
      "   -------------------------------------- - 14.2/14.8 MB 11.7 MB/s eta 0:00:01\n",
      "   ---------------------------------------  14.8/14.8 MB 11.7 MB/s eta 0:00:01\n",
      "   ---------------------------------------  14.8/14.8 MB 11.7 MB/s eta 0:00:01\n",
      "   ---------------------------------------  14.8/14.8 MB 11.7 MB/s eta 0:00:01\n",
      "   ---------------------------------------  14.8/14.8 MB 11.7 MB/s eta 0:00:01\n",
      "   ---------------------------------------  14.8/14.8 MB 11.7 MB/s eta 0:00:01\n",
      "   ---------------------------------------  14.8/14.8 MB 11.7 MB/s eta 0:00:01\n",
      "   ---------------------------------------  14.8/14.8 MB 11.7 MB/s eta 0:00:01\n",
      "   ---------------------------------------  14.8/14.8 MB 11.7 MB/s eta 0:00:01\n",
      "   ---------------------------------------  14.8/14.8 MB 11.7 MB/s eta 0:00:01\n",
      "   ---------------------------------------- 14.8/14.8 MB 8.0 MB/s eta 0:00:00\n",
      "Downloading narwhals-1.37.1-py3-none-any.whl (332 kB)\n",
      "   ---------------------------------------- 0.0/332.4 kB ? eta -:--:--\n",
      "   --------------------------------------  327.7/332.4 kB 19.8 MB/s eta 0:00:01\n",
      "   --------------------------------------  327.7/332.4 kB 19.8 MB/s eta 0:00:01\n",
      "   ---------------------------------------- 332.4/332.4 kB 2.9 MB/s eta 0:00:00\n",
      "Installing collected packages: narwhals, plotly\n",
      "Successfully installed narwhals-1.37.1 plotly-6.0.1\n",
      "Note: you may need to restart the kernel to use updated packages.\n"
     ]
    },
    {
     "name": "stderr",
     "output_type": "stream",
     "text": [
      "\n",
      "[notice] A new release of pip is available: 24.1.2 -> 25.0.1\n",
      "[notice] To update, run: C:\\Users\\EQUIPO\\AppData\\Local\\Microsoft\\WindowsApps\\PythonSoftwareFoundation.Python.3.12_qbz5n2kfra8p0\\python.exe -m pip install --upgrade pip\n"
     ]
    }
   ],
   "source": [
    "pip install plotly"
   ]
  },
  {
   "cell_type": "code",
   "execution_count": 2,
   "id": "4f3d7d27",
   "metadata": {},
   "outputs": [
    {
     "name": "stdout",
     "output_type": "stream",
     "text": [
      "Defaulting to user installation because normal site-packages is not writeableNote: you may need to restart the kernel to use updated packages.\n"
     ]
    },
    {
     "name": "stderr",
     "output_type": "stream",
     "text": [
      "\n",
      "[notice] A new release of pip is available: 24.1.2 -> 25.0.1\n",
      "[notice] To update, run: C:\\Users\\EQUIPO\\AppData\\Local\\Microsoft\\WindowsApps\\PythonSoftwareFoundation.Python.3.12_qbz5n2kfra8p0\\python.exe -m pip install --upgrade pip\n"
     ]
    },
    {
     "name": "stdout",
     "output_type": "stream",
     "text": [
      "\n",
      "Collecting nbformat\n",
      "  Downloading nbformat-5.10.4-py3-none-any.whl.metadata (3.6 kB)\n",
      "Collecting fastjsonschema>=2.15 (from nbformat)\n",
      "  Downloading fastjsonschema-2.21.1-py3-none-any.whl.metadata (2.2 kB)\n",
      "Collecting jsonschema>=2.6 (from nbformat)\n",
      "  Downloading jsonschema-4.23.0-py3-none-any.whl.metadata (7.9 kB)\n",
      "Requirement already satisfied: jupyter-core!=5.0.*,>=4.12 in c:\\users\\equipo\\appdata\\local\\packages\\pythonsoftwarefoundation.python.3.12_qbz5n2kfra8p0\\localcache\\local-packages\\python312\\site-packages (from nbformat) (5.7.2)\n",
      "Requirement already satisfied: traitlets>=5.1 in c:\\users\\equipo\\appdata\\local\\packages\\pythonsoftwarefoundation.python.3.12_qbz5n2kfra8p0\\localcache\\local-packages\\python312\\site-packages (from nbformat) (5.14.3)\n",
      "Collecting attrs>=22.2.0 (from jsonschema>=2.6->nbformat)\n",
      "  Downloading attrs-25.3.0-py3-none-any.whl.metadata (10 kB)\n",
      "Collecting jsonschema-specifications>=2023.03.6 (from jsonschema>=2.6->nbformat)\n",
      "  Downloading jsonschema_specifications-2025.4.1-py3-none-any.whl.metadata (2.9 kB)\n",
      "Collecting referencing>=0.28.4 (from jsonschema>=2.6->nbformat)\n",
      "  Downloading referencing-0.36.2-py3-none-any.whl.metadata (2.8 kB)\n",
      "Collecting rpds-py>=0.7.1 (from jsonschema>=2.6->nbformat)\n",
      "  Downloading rpds_py-0.24.0-cp312-cp312-win_amd64.whl.metadata (4.2 kB)\n",
      "Requirement already satisfied: platformdirs>=2.5 in c:\\users\\equipo\\appdata\\local\\packages\\pythonsoftwarefoundation.python.3.12_qbz5n2kfra8p0\\localcache\\local-packages\\python312\\site-packages (from jupyter-core!=5.0.*,>=4.12->nbformat) (4.2.2)\n",
      "Requirement already satisfied: pywin32>=300 in c:\\users\\equipo\\appdata\\local\\packages\\pythonsoftwarefoundation.python.3.12_qbz5n2kfra8p0\\localcache\\local-packages\\python312\\site-packages (from jupyter-core!=5.0.*,>=4.12->nbformat) (306)\n",
      "Requirement already satisfied: typing-extensions>=4.4.0 in c:\\users\\equipo\\appdata\\local\\packages\\pythonsoftwarefoundation.python.3.12_qbz5n2kfra8p0\\localcache\\local-packages\\python312\\site-packages (from referencing>=0.28.4->jsonschema>=2.6->nbformat) (4.12.2)\n",
      "Downloading nbformat-5.10.4-py3-none-any.whl (78 kB)\n",
      "   ---------------------------------------- 0.0/78.5 kB ? eta -:--:--\n",
      "   ------------------------------------ --- 71.7/78.5 kB ? eta -:--:--\n",
      "   ------------------------------------ --- 71.7/78.5 kB ? eta -:--:--\n",
      "   ---------------------------------------- 78.5/78.5 kB 545.7 kB/s eta 0:00:00\n",
      "Downloading fastjsonschema-2.21.1-py3-none-any.whl (23 kB)\n",
      "Downloading jsonschema-4.23.0-py3-none-any.whl (88 kB)\n",
      "   ---------------------------------------- 0.0/88.5 kB ? eta -:--:--\n",
      "   ------------------------------------- -- 81.9/88.5 kB ? eta -:--:--\n",
      "   ------------------------------------- -- 81.9/88.5 kB ? eta -:--:--\n",
      "   ---------------------------------------- 88.5/88.5 kB 832.1 kB/s eta 0:00:00\n",
      "Downloading attrs-25.3.0-py3-none-any.whl (63 kB)\n",
      "   ---------------------------------------- 0.0/63.8 kB ? eta -:--:--\n",
      "   -------------------------------------- - 61.4/63.8 kB ? eta -:--:--\n",
      "   -------------------------------------- - 61.4/63.8 kB ? eta -:--:--\n",
      "   ---------------------------------------- 63.8/63.8 kB 576.1 kB/s eta 0:00:00\n",
      "Downloading jsonschema_specifications-2025.4.1-py3-none-any.whl (18 kB)\n",
      "Downloading referencing-0.36.2-py3-none-any.whl (26 kB)\n",
      "Downloading rpds_py-0.24.0-cp312-cp312-win_amd64.whl (239 kB)\n",
      "   ---------------------------------------- 0.0/239.7 kB ? eta -:--:--\n",
      "   --------------------------------------  235.5/239.7 kB 14.1 MB/s eta 0:00:01\n",
      "   --------------------------------------  235.5/239.7 kB 14.1 MB/s eta 0:00:01\n",
      "   --------------------------------------  235.5/239.7 kB 14.1 MB/s eta 0:00:01\n",
      "   ---------------------------------------- 239.7/239.7 kB 1.6 MB/s eta 0:00:00\n",
      "Installing collected packages: fastjsonschema, rpds-py, attrs, referencing, jsonschema-specifications, jsonschema, nbformat\n",
      "Successfully installed attrs-25.3.0 fastjsonschema-2.21.1 jsonschema-4.23.0 jsonschema-specifications-2025.4.1 nbformat-5.10.4 referencing-0.36.2 rpds-py-0.24.0\n"
     ]
    }
   ],
   "source": [
    "pip install nbformat"
   ]
  },
  {
   "cell_type": "code",
   "execution_count": 4,
   "id": "0f3945a7",
   "metadata": {},
   "outputs": [
    {
     "data": {
      "text/html": [
       "<div>\n",
       "<style scoped>\n",
       "    .dataframe tbody tr th:only-of-type {\n",
       "        vertical-align: middle;\n",
       "    }\n",
       "\n",
       "    .dataframe tbody tr th {\n",
       "        vertical-align: top;\n",
       "    }\n",
       "\n",
       "    .dataframe thead th {\n",
       "        text-align: right;\n",
       "    }\n",
       "</style>\n",
       "<table border=\"1\" class=\"dataframe\">\n",
       "  <thead>\n",
       "    <tr style=\"text-align: right;\">\n",
       "      <th></th>\n",
       "      <th>date</th>\n",
       "      <th>center_point_geom</th>\n",
       "      <th>longitude</th>\n",
       "      <th>latitude</th>\n",
       "      <th>number_of_strikes</th>\n",
       "    </tr>\n",
       "  </thead>\n",
       "  <tbody>\n",
       "    <tr>\n",
       "      <th>0</th>\n",
       "      <td>2018-08-01</td>\n",
       "      <td>POINT(-81.6 22.6)</td>\n",
       "      <td>-81.6</td>\n",
       "      <td>22.6</td>\n",
       "      <td>48</td>\n",
       "    </tr>\n",
       "    <tr>\n",
       "      <th>1</th>\n",
       "      <td>2018-08-01</td>\n",
       "      <td>POINT(-81.1 22.6)</td>\n",
       "      <td>-81.1</td>\n",
       "      <td>22.6</td>\n",
       "      <td>32</td>\n",
       "    </tr>\n",
       "    <tr>\n",
       "      <th>2</th>\n",
       "      <td>2018-08-01</td>\n",
       "      <td>POINT(-80.9 22.6)</td>\n",
       "      <td>-80.9</td>\n",
       "      <td>22.6</td>\n",
       "      <td>118</td>\n",
       "    </tr>\n",
       "    <tr>\n",
       "      <th>3</th>\n",
       "      <td>2018-08-01</td>\n",
       "      <td>POINT(-80.8 22.6)</td>\n",
       "      <td>-80.8</td>\n",
       "      <td>22.6</td>\n",
       "      <td>69</td>\n",
       "    </tr>\n",
       "    <tr>\n",
       "      <th>4</th>\n",
       "      <td>2018-08-01</td>\n",
       "      <td>POINT(-98.4 22.8)</td>\n",
       "      <td>-98.4</td>\n",
       "      <td>22.8</td>\n",
       "      <td>44</td>\n",
       "    </tr>\n",
       "    <tr>\n",
       "      <th>5</th>\n",
       "      <td>2018-08-01</td>\n",
       "      <td>POINT(-81 22.7)</td>\n",
       "      <td>-81.0</td>\n",
       "      <td>22.7</td>\n",
       "      <td>36</td>\n",
       "    </tr>\n",
       "    <tr>\n",
       "      <th>6</th>\n",
       "      <td>2018-08-01</td>\n",
       "      <td>POINT(-98.4 22.7)</td>\n",
       "      <td>-98.4</td>\n",
       "      <td>22.7</td>\n",
       "      <td>110</td>\n",
       "    </tr>\n",
       "    <tr>\n",
       "      <th>7</th>\n",
       "      <td>2018-08-01</td>\n",
       "      <td>POINT(-81.1 22.7)</td>\n",
       "      <td>-81.1</td>\n",
       "      <td>22.7</td>\n",
       "      <td>48</td>\n",
       "    </tr>\n",
       "    <tr>\n",
       "      <th>8</th>\n",
       "      <td>2018-08-01</td>\n",
       "      <td>POINT(-80.9 22.7)</td>\n",
       "      <td>-80.9</td>\n",
       "      <td>22.7</td>\n",
       "      <td>71</td>\n",
       "    </tr>\n",
       "    <tr>\n",
       "      <th>9</th>\n",
       "      <td>2018-08-01</td>\n",
       "      <td>POINT(-85.7 26.4)</td>\n",
       "      <td>-85.7</td>\n",
       "      <td>26.4</td>\n",
       "      <td>29</td>\n",
       "    </tr>\n",
       "    <tr>\n",
       "      <th>10</th>\n",
       "      <td>2018-08-01</td>\n",
       "      <td>POINT(-81.1 22.8)</td>\n",
       "      <td>-81.1</td>\n",
       "      <td>22.8</td>\n",
       "      <td>59</td>\n",
       "    </tr>\n",
       "    <tr>\n",
       "      <th>11</th>\n",
       "      <td>2018-08-01</td>\n",
       "      <td>POINT(-92 26.5)</td>\n",
       "      <td>-92.0</td>\n",
       "      <td>26.5</td>\n",
       "      <td>49</td>\n",
       "    </tr>\n",
       "    <tr>\n",
       "      <th>12</th>\n",
       "      <td>2018-08-01</td>\n",
       "      <td>POINT(-96.2 26.5)</td>\n",
       "      <td>-96.2</td>\n",
       "      <td>26.5</td>\n",
       "      <td>47</td>\n",
       "    </tr>\n",
       "    <tr>\n",
       "      <th>13</th>\n",
       "      <td>2018-08-01</td>\n",
       "      <td>POINT(-90.8 22.9)</td>\n",
       "      <td>-90.8</td>\n",
       "      <td>22.9</td>\n",
       "      <td>47</td>\n",
       "    </tr>\n",
       "    <tr>\n",
       "      <th>14</th>\n",
       "      <td>2018-08-01</td>\n",
       "      <td>POINT(-85.8 26.5)</td>\n",
       "      <td>-85.8</td>\n",
       "      <td>26.5</td>\n",
       "      <td>28</td>\n",
       "    </tr>\n",
       "  </tbody>\n",
       "</table>\n",
       "</div>"
      ],
      "text/plain": [
       "          date  center_point_geom  longitude  latitude  number_of_strikes\n",
       "0   2018-08-01  POINT(-81.6 22.6)      -81.6      22.6                 48\n",
       "1   2018-08-01  POINT(-81.1 22.6)      -81.1      22.6                 32\n",
       "2   2018-08-01  POINT(-80.9 22.6)      -80.9      22.6                118\n",
       "3   2018-08-01  POINT(-80.8 22.6)      -80.8      22.6                 69\n",
       "4   2018-08-01  POINT(-98.4 22.8)      -98.4      22.8                 44\n",
       "5   2018-08-01    POINT(-81 22.7)      -81.0      22.7                 36\n",
       "6   2018-08-01  POINT(-98.4 22.7)      -98.4      22.7                110\n",
       "7   2018-08-01  POINT(-81.1 22.7)      -81.1      22.7                 48\n",
       "8   2018-08-01  POINT(-80.9 22.7)      -80.9      22.7                 71\n",
       "9   2018-08-01  POINT(-85.7 26.4)      -85.7      26.4                 29\n",
       "10  2018-08-01  POINT(-81.1 22.8)      -81.1      22.8                 59\n",
       "11  2018-08-01    POINT(-92 26.5)      -92.0      26.5                 49\n",
       "12  2018-08-01  POINT(-96.2 26.5)      -96.2      26.5                 47\n",
       "13  2018-08-01  POINT(-90.8 22.9)      -90.8      22.9                 47\n",
       "14  2018-08-01  POINT(-85.8 26.5)      -85.8      26.5                 28"
      ]
     },
     "execution_count": 4,
     "metadata": {},
     "output_type": "execute_result"
    }
   ],
   "source": [
    "lightning_strikes = pd.read_csv(\"./Raw_data/eda_dataset_cleaning/Files/eda_missing_data_dataset1.csv\")\n",
    "lightning_strikes.head(15)"
   ]
  },
  {
   "cell_type": "code",
   "execution_count": 3,
   "id": "04036f47",
   "metadata": {},
   "outputs": [
    {
     "data": {
      "text/plain": [
       "(717530, 5)"
      ]
     },
     "execution_count": 3,
     "metadata": {},
     "output_type": "execute_result"
    }
   ],
   "source": [
    "lightning_strikes.shape"
   ]
  },
  {
   "cell_type": "code",
   "execution_count": 5,
   "id": "d9a0e58c",
   "metadata": {},
   "outputs": [
    {
     "data": {
      "text/html": [
       "<div>\n",
       "<style scoped>\n",
       "    .dataframe tbody tr th:only-of-type {\n",
       "        vertical-align: middle;\n",
       "    }\n",
       "\n",
       "    .dataframe tbody tr th {\n",
       "        vertical-align: top;\n",
       "    }\n",
       "\n",
       "    .dataframe thead th {\n",
       "        text-align: right;\n",
       "    }\n",
       "</style>\n",
       "<table border=\"1\" class=\"dataframe\">\n",
       "  <thead>\n",
       "    <tr style=\"text-align: right;\">\n",
       "      <th></th>\n",
       "      <th>date</th>\n",
       "      <th>zip_code</th>\n",
       "      <th>city</th>\n",
       "      <th>state</th>\n",
       "      <th>state_code</th>\n",
       "      <th>center_point_geom</th>\n",
       "      <th>number_of_strikes</th>\n",
       "    </tr>\n",
       "  </thead>\n",
       "  <tbody>\n",
       "    <tr>\n",
       "      <th>0</th>\n",
       "      <td>2018-08-08</td>\n",
       "      <td>3281</td>\n",
       "      <td>Weare</td>\n",
       "      <td>New Hampshire</td>\n",
       "      <td>NH</td>\n",
       "      <td>POINT(-71.7 43.1)</td>\n",
       "      <td>1</td>\n",
       "    </tr>\n",
       "    <tr>\n",
       "      <th>1</th>\n",
       "      <td>2018-08-14</td>\n",
       "      <td>6488</td>\n",
       "      <td>Heritage Village CDP</td>\n",
       "      <td>Connecticut</td>\n",
       "      <td>CT</td>\n",
       "      <td>POINT(-73.2 41.5)</td>\n",
       "      <td>3</td>\n",
       "    </tr>\n",
       "    <tr>\n",
       "      <th>2</th>\n",
       "      <td>2018-08-16</td>\n",
       "      <td>97759</td>\n",
       "      <td>Sisters city, Black Butte Ranch CDP</td>\n",
       "      <td>Oregon</td>\n",
       "      <td>OR</td>\n",
       "      <td>POINT(-121.4 44.3)</td>\n",
       "      <td>3</td>\n",
       "    </tr>\n",
       "    <tr>\n",
       "      <th>3</th>\n",
       "      <td>2018-08-18</td>\n",
       "      <td>6776</td>\n",
       "      <td>New Milford CDP</td>\n",
       "      <td>Connecticut</td>\n",
       "      <td>CT</td>\n",
       "      <td>POINT(-73.4 41.6)</td>\n",
       "      <td>48</td>\n",
       "    </tr>\n",
       "    <tr>\n",
       "      <th>4</th>\n",
       "      <td>2018-08-08</td>\n",
       "      <td>1077</td>\n",
       "      <td>Southwick</td>\n",
       "      <td>Massachusetts</td>\n",
       "      <td>MA</td>\n",
       "      <td>POINT(-72.8 42)</td>\n",
       "      <td>2</td>\n",
       "    </tr>\n",
       "    <tr>\n",
       "      <th>5</th>\n",
       "      <td>2018-08-17</td>\n",
       "      <td>92283</td>\n",
       "      <td>Winterhaven CDP</td>\n",
       "      <td>California</td>\n",
       "      <td>CA</td>\n",
       "      <td>POINT(-114.9 33.1)</td>\n",
       "      <td>3</td>\n",
       "    </tr>\n",
       "    <tr>\n",
       "      <th>6</th>\n",
       "      <td>2018-08-18</td>\n",
       "      <td>5301</td>\n",
       "      <td>Brattleboro CDP, West Brattleboro CDP</td>\n",
       "      <td>Vermont</td>\n",
       "      <td>VT</td>\n",
       "      <td>POINT(-72.8 42.8)</td>\n",
       "      <td>3</td>\n",
       "    </tr>\n",
       "    <tr>\n",
       "      <th>7</th>\n",
       "      <td>2018-08-04</td>\n",
       "      <td>97761</td>\n",
       "      <td>Warm Springs CDP</td>\n",
       "      <td>Oregon</td>\n",
       "      <td>OR</td>\n",
       "      <td>POINT(-121.5 44.9)</td>\n",
       "      <td>1</td>\n",
       "    </tr>\n",
       "    <tr>\n",
       "      <th>8</th>\n",
       "      <td>2018-08-08</td>\n",
       "      <td>1378</td>\n",
       "      <td>Warwick</td>\n",
       "      <td>Massachusetts</td>\n",
       "      <td>MA</td>\n",
       "      <td>POINT(-72.4 42.7)</td>\n",
       "      <td>5</td>\n",
       "    </tr>\n",
       "    <tr>\n",
       "      <th>9</th>\n",
       "      <td>2018-08-17</td>\n",
       "      <td>3766</td>\n",
       "      <td>Lebanon city</td>\n",
       "      <td>New Hampshire</td>\n",
       "      <td>NH</td>\n",
       "      <td>POINT(-72.2 43.6)</td>\n",
       "      <td>6</td>\n",
       "    </tr>\n",
       "    <tr>\n",
       "      <th>10</th>\n",
       "      <td>2018-08-17</td>\n",
       "      <td>97812</td>\n",
       "      <td>Arlington city</td>\n",
       "      <td>Oregon</td>\n",
       "      <td>OR</td>\n",
       "      <td>POINT(-120.3 45.4)</td>\n",
       "      <td>24</td>\n",
       "    </tr>\n",
       "    <tr>\n",
       "      <th>11</th>\n",
       "      <td>2018-08-07</td>\n",
       "      <td>6831</td>\n",
       "      <td>Glenville CDP, Pemberwick CDP, Greenwich CDP, ...</td>\n",
       "      <td>Connecticut</td>\n",
       "      <td>CT</td>\n",
       "      <td>POINT(-73.6 41.1)</td>\n",
       "      <td>8</td>\n",
       "    </tr>\n",
       "    <tr>\n",
       "      <th>12</th>\n",
       "      <td>2018-08-09</td>\n",
       "      <td>1341</td>\n",
       "      <td>Conway</td>\n",
       "      <td>Massachusetts</td>\n",
       "      <td>MA</td>\n",
       "      <td>POINT(-72.7 42.5)</td>\n",
       "      <td>2</td>\n",
       "    </tr>\n",
       "    <tr>\n",
       "      <th>13</th>\n",
       "      <td>2018-08-07</td>\n",
       "      <td>3240</td>\n",
       "      <td>Grafton</td>\n",
       "      <td>New Hampshire</td>\n",
       "      <td>NH</td>\n",
       "      <td>POINT(-72 43.6)</td>\n",
       "      <td>7</td>\n",
       "    </tr>\n",
       "    <tr>\n",
       "      <th>14</th>\n",
       "      <td>2018-08-16</td>\n",
       "      <td>3592</td>\n",
       "      <td>Pittsburg</td>\n",
       "      <td>New Hampshire</td>\n",
       "      <td>NH</td>\n",
       "      <td>POINT(-71.2 45.1)</td>\n",
       "      <td>45</td>\n",
       "    </tr>\n",
       "  </tbody>\n",
       "</table>\n",
       "</div>"
      ],
      "text/plain": [
       "          date  zip_code                                               city  \\\n",
       "0   2018-08-08      3281                                              Weare   \n",
       "1   2018-08-14      6488                               Heritage Village CDP   \n",
       "2   2018-08-16     97759                Sisters city, Black Butte Ranch CDP   \n",
       "3   2018-08-18      6776                                    New Milford CDP   \n",
       "4   2018-08-08      1077                                          Southwick   \n",
       "5   2018-08-17     92283                                    Winterhaven CDP   \n",
       "6   2018-08-18      5301              Brattleboro CDP, West Brattleboro CDP   \n",
       "7   2018-08-04     97761                                   Warm Springs CDP   \n",
       "8   2018-08-08      1378                                            Warwick   \n",
       "9   2018-08-17      3766                                       Lebanon city   \n",
       "10  2018-08-17     97812                                     Arlington city   \n",
       "11  2018-08-07      6831  Glenville CDP, Pemberwick CDP, Greenwich CDP, ...   \n",
       "12  2018-08-09      1341                                             Conway   \n",
       "13  2018-08-07      3240                                            Grafton   \n",
       "14  2018-08-16      3592                                          Pittsburg   \n",
       "\n",
       "            state state_code   center_point_geom  number_of_strikes  \n",
       "0   New Hampshire         NH   POINT(-71.7 43.1)                  1  \n",
       "1     Connecticut         CT   POINT(-73.2 41.5)                  3  \n",
       "2          Oregon         OR  POINT(-121.4 44.3)                  3  \n",
       "3     Connecticut         CT   POINT(-73.4 41.6)                 48  \n",
       "4   Massachusetts         MA     POINT(-72.8 42)                  2  \n",
       "5      California         CA  POINT(-114.9 33.1)                  3  \n",
       "6         Vermont         VT   POINT(-72.8 42.8)                  3  \n",
       "7          Oregon         OR  POINT(-121.5 44.9)                  1  \n",
       "8   Massachusetts         MA   POINT(-72.4 42.7)                  5  \n",
       "9   New Hampshire         NH   POINT(-72.2 43.6)                  6  \n",
       "10         Oregon         OR  POINT(-120.3 45.4)                 24  \n",
       "11    Connecticut         CT   POINT(-73.6 41.1)                  8  \n",
       "12  Massachusetts         MA   POINT(-72.7 42.5)                  2  \n",
       "13  New Hampshire         NH     POINT(-72 43.6)                  7  \n",
       "14  New Hampshire         NH   POINT(-71.2 45.1)                 45  "
      ]
     },
     "execution_count": 5,
     "metadata": {},
     "output_type": "execute_result"
    }
   ],
   "source": [
    "lightning_strikes_p2 = pd.read_csv(\"./Raw_data/eda_dataset_cleaning/Files/eda_missing_data_dataset2.csv\")\n",
    "lightning_strikes_p2.head(15)"
   ]
  },
  {
   "cell_type": "code",
   "execution_count": 6,
   "id": "b4e9fdfe",
   "metadata": {},
   "outputs": [
    {
     "data": {
      "text/plain": [
       "(323700, 7)"
      ]
     },
     "execution_count": 6,
     "metadata": {},
     "output_type": "execute_result"
    }
   ],
   "source": [
    "lightning_strikes_p2.shape"
   ]
  },
  {
   "cell_type": "code",
   "execution_count": 7,
   "id": "c1853a73",
   "metadata": {},
   "outputs": [
    {
     "data": {
      "text/html": [
       "<div>\n",
       "<style scoped>\n",
       "    .dataframe tbody tr th:only-of-type {\n",
       "        vertical-align: middle;\n",
       "    }\n",
       "\n",
       "    .dataframe tbody tr th {\n",
       "        vertical-align: top;\n",
       "    }\n",
       "\n",
       "    .dataframe thead th {\n",
       "        text-align: right;\n",
       "    }\n",
       "</style>\n",
       "<table border=\"1\" class=\"dataframe\">\n",
       "  <thead>\n",
       "    <tr style=\"text-align: right;\">\n",
       "      <th></th>\n",
       "      <th>date</th>\n",
       "      <th>center_point_geom</th>\n",
       "      <th>longitude</th>\n",
       "      <th>latitude</th>\n",
       "      <th>number_of_strikes_x</th>\n",
       "      <th>zip_code</th>\n",
       "      <th>city</th>\n",
       "      <th>state</th>\n",
       "      <th>state_code</th>\n",
       "      <th>number_of_strikes_y</th>\n",
       "    </tr>\n",
       "  </thead>\n",
       "  <tbody>\n",
       "    <tr>\n",
       "      <th>0</th>\n",
       "      <td>2018-08-01</td>\n",
       "      <td>POINT(-81.6 22.6)</td>\n",
       "      <td>-81.6</td>\n",
       "      <td>22.6</td>\n",
       "      <td>48</td>\n",
       "      <td>NaN</td>\n",
       "      <td>NaN</td>\n",
       "      <td>NaN</td>\n",
       "      <td>NaN</td>\n",
       "      <td>NaN</td>\n",
       "    </tr>\n",
       "    <tr>\n",
       "      <th>1</th>\n",
       "      <td>2018-08-01</td>\n",
       "      <td>POINT(-81.1 22.6)</td>\n",
       "      <td>-81.1</td>\n",
       "      <td>22.6</td>\n",
       "      <td>32</td>\n",
       "      <td>NaN</td>\n",
       "      <td>NaN</td>\n",
       "      <td>NaN</td>\n",
       "      <td>NaN</td>\n",
       "      <td>NaN</td>\n",
       "    </tr>\n",
       "    <tr>\n",
       "      <th>2</th>\n",
       "      <td>2018-08-01</td>\n",
       "      <td>POINT(-80.9 22.6)</td>\n",
       "      <td>-80.9</td>\n",
       "      <td>22.6</td>\n",
       "      <td>118</td>\n",
       "      <td>NaN</td>\n",
       "      <td>NaN</td>\n",
       "      <td>NaN</td>\n",
       "      <td>NaN</td>\n",
       "      <td>NaN</td>\n",
       "    </tr>\n",
       "    <tr>\n",
       "      <th>3</th>\n",
       "      <td>2018-08-01</td>\n",
       "      <td>POINT(-80.8 22.6)</td>\n",
       "      <td>-80.8</td>\n",
       "      <td>22.6</td>\n",
       "      <td>69</td>\n",
       "      <td>NaN</td>\n",
       "      <td>NaN</td>\n",
       "      <td>NaN</td>\n",
       "      <td>NaN</td>\n",
       "      <td>NaN</td>\n",
       "    </tr>\n",
       "    <tr>\n",
       "      <th>4</th>\n",
       "      <td>2018-08-01</td>\n",
       "      <td>POINT(-98.4 22.8)</td>\n",
       "      <td>-98.4</td>\n",
       "      <td>22.8</td>\n",
       "      <td>44</td>\n",
       "      <td>NaN</td>\n",
       "      <td>NaN</td>\n",
       "      <td>NaN</td>\n",
       "      <td>NaN</td>\n",
       "      <td>NaN</td>\n",
       "    </tr>\n",
       "    <tr>\n",
       "      <th>5</th>\n",
       "      <td>2018-08-01</td>\n",
       "      <td>POINT(-81 22.7)</td>\n",
       "      <td>-81.0</td>\n",
       "      <td>22.7</td>\n",
       "      <td>36</td>\n",
       "      <td>NaN</td>\n",
       "      <td>NaN</td>\n",
       "      <td>NaN</td>\n",
       "      <td>NaN</td>\n",
       "      <td>NaN</td>\n",
       "    </tr>\n",
       "    <tr>\n",
       "      <th>6</th>\n",
       "      <td>2018-08-01</td>\n",
       "      <td>POINT(-98.4 22.7)</td>\n",
       "      <td>-98.4</td>\n",
       "      <td>22.7</td>\n",
       "      <td>110</td>\n",
       "      <td>NaN</td>\n",
       "      <td>NaN</td>\n",
       "      <td>NaN</td>\n",
       "      <td>NaN</td>\n",
       "      <td>NaN</td>\n",
       "    </tr>\n",
       "    <tr>\n",
       "      <th>7</th>\n",
       "      <td>2018-08-01</td>\n",
       "      <td>POINT(-81.1 22.7)</td>\n",
       "      <td>-81.1</td>\n",
       "      <td>22.7</td>\n",
       "      <td>48</td>\n",
       "      <td>NaN</td>\n",
       "      <td>NaN</td>\n",
       "      <td>NaN</td>\n",
       "      <td>NaN</td>\n",
       "      <td>NaN</td>\n",
       "    </tr>\n",
       "    <tr>\n",
       "      <th>8</th>\n",
       "      <td>2018-08-01</td>\n",
       "      <td>POINT(-80.9 22.7)</td>\n",
       "      <td>-80.9</td>\n",
       "      <td>22.7</td>\n",
       "      <td>71</td>\n",
       "      <td>NaN</td>\n",
       "      <td>NaN</td>\n",
       "      <td>NaN</td>\n",
       "      <td>NaN</td>\n",
       "      <td>NaN</td>\n",
       "    </tr>\n",
       "    <tr>\n",
       "      <th>9</th>\n",
       "      <td>2018-08-01</td>\n",
       "      <td>POINT(-85.7 26.4)</td>\n",
       "      <td>-85.7</td>\n",
       "      <td>26.4</td>\n",
       "      <td>29</td>\n",
       "      <td>NaN</td>\n",
       "      <td>NaN</td>\n",
       "      <td>NaN</td>\n",
       "      <td>NaN</td>\n",
       "      <td>NaN</td>\n",
       "    </tr>\n",
       "    <tr>\n",
       "      <th>10</th>\n",
       "      <td>2018-08-01</td>\n",
       "      <td>POINT(-81.1 22.8)</td>\n",
       "      <td>-81.1</td>\n",
       "      <td>22.8</td>\n",
       "      <td>59</td>\n",
       "      <td>NaN</td>\n",
       "      <td>NaN</td>\n",
       "      <td>NaN</td>\n",
       "      <td>NaN</td>\n",
       "      <td>NaN</td>\n",
       "    </tr>\n",
       "    <tr>\n",
       "      <th>11</th>\n",
       "      <td>2018-08-01</td>\n",
       "      <td>POINT(-92 26.5)</td>\n",
       "      <td>-92.0</td>\n",
       "      <td>26.5</td>\n",
       "      <td>49</td>\n",
       "      <td>NaN</td>\n",
       "      <td>NaN</td>\n",
       "      <td>NaN</td>\n",
       "      <td>NaN</td>\n",
       "      <td>NaN</td>\n",
       "    </tr>\n",
       "    <tr>\n",
       "      <th>12</th>\n",
       "      <td>2018-08-01</td>\n",
       "      <td>POINT(-96.2 26.5)</td>\n",
       "      <td>-96.2</td>\n",
       "      <td>26.5</td>\n",
       "      <td>47</td>\n",
       "      <td>NaN</td>\n",
       "      <td>NaN</td>\n",
       "      <td>NaN</td>\n",
       "      <td>NaN</td>\n",
       "      <td>NaN</td>\n",
       "    </tr>\n",
       "    <tr>\n",
       "      <th>13</th>\n",
       "      <td>2018-08-01</td>\n",
       "      <td>POINT(-90.8 22.9)</td>\n",
       "      <td>-90.8</td>\n",
       "      <td>22.9</td>\n",
       "      <td>47</td>\n",
       "      <td>NaN</td>\n",
       "      <td>NaN</td>\n",
       "      <td>NaN</td>\n",
       "      <td>NaN</td>\n",
       "      <td>NaN</td>\n",
       "    </tr>\n",
       "    <tr>\n",
       "      <th>14</th>\n",
       "      <td>2018-08-01</td>\n",
       "      <td>POINT(-85.8 26.5)</td>\n",
       "      <td>-85.8</td>\n",
       "      <td>26.5</td>\n",
       "      <td>28</td>\n",
       "      <td>NaN</td>\n",
       "      <td>NaN</td>\n",
       "      <td>NaN</td>\n",
       "      <td>NaN</td>\n",
       "      <td>NaN</td>\n",
       "    </tr>\n",
       "    <tr>\n",
       "      <th>15</th>\n",
       "      <td>2018-08-01</td>\n",
       "      <td>POINT(-85.4 26.5)</td>\n",
       "      <td>-85.4</td>\n",
       "      <td>26.5</td>\n",
       "      <td>44</td>\n",
       "      <td>NaN</td>\n",
       "      <td>NaN</td>\n",
       "      <td>NaN</td>\n",
       "      <td>NaN</td>\n",
       "      <td>NaN</td>\n",
       "    </tr>\n",
       "    <tr>\n",
       "      <th>16</th>\n",
       "      <td>2018-08-01</td>\n",
       "      <td>POINT(-107.8 26.4)</td>\n",
       "      <td>-107.8</td>\n",
       "      <td>26.4</td>\n",
       "      <td>26</td>\n",
       "      <td>NaN</td>\n",
       "      <td>NaN</td>\n",
       "      <td>NaN</td>\n",
       "      <td>NaN</td>\n",
       "      <td>NaN</td>\n",
       "    </tr>\n",
       "    <tr>\n",
       "      <th>17</th>\n",
       "      <td>2018-08-01</td>\n",
       "      <td>POINT(-99 26.6)</td>\n",
       "      <td>-99.0</td>\n",
       "      <td>26.6</td>\n",
       "      <td>26</td>\n",
       "      <td>78584.0</td>\n",
       "      <td>Roma city, H. Cuellar Estates CDP, La Rosita C...</td>\n",
       "      <td>Texas</td>\n",
       "      <td>TX</td>\n",
       "      <td>26.0</td>\n",
       "    </tr>\n",
       "    <tr>\n",
       "      <th>18</th>\n",
       "      <td>2018-08-01</td>\n",
       "      <td>POINT(-83 26.6)</td>\n",
       "      <td>-83.0</td>\n",
       "      <td>26.6</td>\n",
       "      <td>25</td>\n",
       "      <td>NaN</td>\n",
       "      <td>NaN</td>\n",
       "      <td>NaN</td>\n",
       "      <td>NaN</td>\n",
       "      <td>NaN</td>\n",
       "    </tr>\n",
       "    <tr>\n",
       "      <th>19</th>\n",
       "      <td>2018-08-01</td>\n",
       "      <td>POINT(-95.5 26.5)</td>\n",
       "      <td>-95.5</td>\n",
       "      <td>26.5</td>\n",
       "      <td>23</td>\n",
       "      <td>NaN</td>\n",
       "      <td>NaN</td>\n",
       "      <td>NaN</td>\n",
       "      <td>NaN</td>\n",
       "      <td>NaN</td>\n",
       "    </tr>\n",
       "    <tr>\n",
       "      <th>20</th>\n",
       "      <td>2018-08-01</td>\n",
       "      <td>POINT(-93.3 26.5)</td>\n",
       "      <td>-93.3</td>\n",
       "      <td>26.5</td>\n",
       "      <td>32</td>\n",
       "      <td>NaN</td>\n",
       "      <td>NaN</td>\n",
       "      <td>NaN</td>\n",
       "      <td>NaN</td>\n",
       "      <td>NaN</td>\n",
       "    </tr>\n",
       "    <tr>\n",
       "      <th>21</th>\n",
       "      <td>2018-08-01</td>\n",
       "      <td>POINT(-92.9 26.5)</td>\n",
       "      <td>-92.9</td>\n",
       "      <td>26.5</td>\n",
       "      <td>32</td>\n",
       "      <td>NaN</td>\n",
       "      <td>NaN</td>\n",
       "      <td>NaN</td>\n",
       "      <td>NaN</td>\n",
       "      <td>NaN</td>\n",
       "    </tr>\n",
       "    <tr>\n",
       "      <th>22</th>\n",
       "      <td>2018-08-01</td>\n",
       "      <td>POINT(-92.8 26.5)</td>\n",
       "      <td>-92.8</td>\n",
       "      <td>26.5</td>\n",
       "      <td>31</td>\n",
       "      <td>NaN</td>\n",
       "      <td>NaN</td>\n",
       "      <td>NaN</td>\n",
       "      <td>NaN</td>\n",
       "      <td>NaN</td>\n",
       "    </tr>\n",
       "    <tr>\n",
       "      <th>23</th>\n",
       "      <td>2018-08-01</td>\n",
       "      <td>POINT(-92.7 26.5)</td>\n",
       "      <td>-92.7</td>\n",
       "      <td>26.5</td>\n",
       "      <td>46</td>\n",
       "      <td>NaN</td>\n",
       "      <td>NaN</td>\n",
       "      <td>NaN</td>\n",
       "      <td>NaN</td>\n",
       "      <td>NaN</td>\n",
       "    </tr>\n",
       "    <tr>\n",
       "      <th>24</th>\n",
       "      <td>2018-08-01</td>\n",
       "      <td>POINT(-92.6 26.5)</td>\n",
       "      <td>-92.6</td>\n",
       "      <td>26.5</td>\n",
       "      <td>152</td>\n",
       "      <td>NaN</td>\n",
       "      <td>NaN</td>\n",
       "      <td>NaN</td>\n",
       "      <td>NaN</td>\n",
       "      <td>NaN</td>\n",
       "    </tr>\n",
       "    <tr>\n",
       "      <th>25</th>\n",
       "      <td>2018-08-01</td>\n",
       "      <td>POINT(-91.9 26.5)</td>\n",
       "      <td>-91.9</td>\n",
       "      <td>26.5</td>\n",
       "      <td>57</td>\n",
       "      <td>NaN</td>\n",
       "      <td>NaN</td>\n",
       "      <td>NaN</td>\n",
       "      <td>NaN</td>\n",
       "      <td>NaN</td>\n",
       "    </tr>\n",
       "    <tr>\n",
       "      <th>26</th>\n",
       "      <td>2018-08-01</td>\n",
       "      <td>POINT(-91.3 26.5)</td>\n",
       "      <td>-91.3</td>\n",
       "      <td>26.5</td>\n",
       "      <td>26</td>\n",
       "      <td>NaN</td>\n",
       "      <td>NaN</td>\n",
       "      <td>NaN</td>\n",
       "      <td>NaN</td>\n",
       "      <td>NaN</td>\n",
       "    </tr>\n",
       "    <tr>\n",
       "      <th>27</th>\n",
       "      <td>2018-08-01</td>\n",
       "      <td>POINT(-112 30.8)</td>\n",
       "      <td>-112.0</td>\n",
       "      <td>30.8</td>\n",
       "      <td>41</td>\n",
       "      <td>NaN</td>\n",
       "      <td>NaN</td>\n",
       "      <td>NaN</td>\n",
       "      <td>NaN</td>\n",
       "      <td>NaN</td>\n",
       "    </tr>\n",
       "    <tr>\n",
       "      <th>28</th>\n",
       "      <td>2018-08-01</td>\n",
       "      <td>POINT(-82.2 30.8)</td>\n",
       "      <td>-82.2</td>\n",
       "      <td>30.8</td>\n",
       "      <td>57</td>\n",
       "      <td>NaN</td>\n",
       "      <td>NaN</td>\n",
       "      <td>NaN</td>\n",
       "      <td>NaN</td>\n",
       "      <td>NaN</td>\n",
       "    </tr>\n",
       "    <tr>\n",
       "      <th>29</th>\n",
       "      <td>2018-08-01</td>\n",
       "      <td>POINT(-81.7 30.8)</td>\n",
       "      <td>-81.7</td>\n",
       "      <td>30.8</td>\n",
       "      <td>44</td>\n",
       "      <td>31548.0</td>\n",
       "      <td>Kingsland city, St. Marys city</td>\n",
       "      <td>Georgia</td>\n",
       "      <td>GA</td>\n",
       "      <td>44.0</td>\n",
       "    </tr>\n",
       "  </tbody>\n",
       "</table>\n",
       "</div>"
      ],
      "text/plain": [
       "          date   center_point_geom  longitude  latitude  number_of_strikes_x  \\\n",
       "0   2018-08-01   POINT(-81.6 22.6)      -81.6      22.6                   48   \n",
       "1   2018-08-01   POINT(-81.1 22.6)      -81.1      22.6                   32   \n",
       "2   2018-08-01   POINT(-80.9 22.6)      -80.9      22.6                  118   \n",
       "3   2018-08-01   POINT(-80.8 22.6)      -80.8      22.6                   69   \n",
       "4   2018-08-01   POINT(-98.4 22.8)      -98.4      22.8                   44   \n",
       "5   2018-08-01     POINT(-81 22.7)      -81.0      22.7                   36   \n",
       "6   2018-08-01   POINT(-98.4 22.7)      -98.4      22.7                  110   \n",
       "7   2018-08-01   POINT(-81.1 22.7)      -81.1      22.7                   48   \n",
       "8   2018-08-01   POINT(-80.9 22.7)      -80.9      22.7                   71   \n",
       "9   2018-08-01   POINT(-85.7 26.4)      -85.7      26.4                   29   \n",
       "10  2018-08-01   POINT(-81.1 22.8)      -81.1      22.8                   59   \n",
       "11  2018-08-01     POINT(-92 26.5)      -92.0      26.5                   49   \n",
       "12  2018-08-01   POINT(-96.2 26.5)      -96.2      26.5                   47   \n",
       "13  2018-08-01   POINT(-90.8 22.9)      -90.8      22.9                   47   \n",
       "14  2018-08-01   POINT(-85.8 26.5)      -85.8      26.5                   28   \n",
       "15  2018-08-01   POINT(-85.4 26.5)      -85.4      26.5                   44   \n",
       "16  2018-08-01  POINT(-107.8 26.4)     -107.8      26.4                   26   \n",
       "17  2018-08-01     POINT(-99 26.6)      -99.0      26.6                   26   \n",
       "18  2018-08-01     POINT(-83 26.6)      -83.0      26.6                   25   \n",
       "19  2018-08-01   POINT(-95.5 26.5)      -95.5      26.5                   23   \n",
       "20  2018-08-01   POINT(-93.3 26.5)      -93.3      26.5                   32   \n",
       "21  2018-08-01   POINT(-92.9 26.5)      -92.9      26.5                   32   \n",
       "22  2018-08-01   POINT(-92.8 26.5)      -92.8      26.5                   31   \n",
       "23  2018-08-01   POINT(-92.7 26.5)      -92.7      26.5                   46   \n",
       "24  2018-08-01   POINT(-92.6 26.5)      -92.6      26.5                  152   \n",
       "25  2018-08-01   POINT(-91.9 26.5)      -91.9      26.5                   57   \n",
       "26  2018-08-01   POINT(-91.3 26.5)      -91.3      26.5                   26   \n",
       "27  2018-08-01    POINT(-112 30.8)     -112.0      30.8                   41   \n",
       "28  2018-08-01   POINT(-82.2 30.8)      -82.2      30.8                   57   \n",
       "29  2018-08-01   POINT(-81.7 30.8)      -81.7      30.8                   44   \n",
       "\n",
       "    zip_code                                               city    state  \\\n",
       "0        NaN                                                NaN      NaN   \n",
       "1        NaN                                                NaN      NaN   \n",
       "2        NaN                                                NaN      NaN   \n",
       "3        NaN                                                NaN      NaN   \n",
       "4        NaN                                                NaN      NaN   \n",
       "5        NaN                                                NaN      NaN   \n",
       "6        NaN                                                NaN      NaN   \n",
       "7        NaN                                                NaN      NaN   \n",
       "8        NaN                                                NaN      NaN   \n",
       "9        NaN                                                NaN      NaN   \n",
       "10       NaN                                                NaN      NaN   \n",
       "11       NaN                                                NaN      NaN   \n",
       "12       NaN                                                NaN      NaN   \n",
       "13       NaN                                                NaN      NaN   \n",
       "14       NaN                                                NaN      NaN   \n",
       "15       NaN                                                NaN      NaN   \n",
       "16       NaN                                                NaN      NaN   \n",
       "17   78584.0  Roma city, H. Cuellar Estates CDP, La Rosita C...    Texas   \n",
       "18       NaN                                                NaN      NaN   \n",
       "19       NaN                                                NaN      NaN   \n",
       "20       NaN                                                NaN      NaN   \n",
       "21       NaN                                                NaN      NaN   \n",
       "22       NaN                                                NaN      NaN   \n",
       "23       NaN                                                NaN      NaN   \n",
       "24       NaN                                                NaN      NaN   \n",
       "25       NaN                                                NaN      NaN   \n",
       "26       NaN                                                NaN      NaN   \n",
       "27       NaN                                                NaN      NaN   \n",
       "28       NaN                                                NaN      NaN   \n",
       "29   31548.0                     Kingsland city, St. Marys city  Georgia   \n",
       "\n",
       "   state_code  number_of_strikes_y  \n",
       "0         NaN                  NaN  \n",
       "1         NaN                  NaN  \n",
       "2         NaN                  NaN  \n",
       "3         NaN                  NaN  \n",
       "4         NaN                  NaN  \n",
       "5         NaN                  NaN  \n",
       "6         NaN                  NaN  \n",
       "7         NaN                  NaN  \n",
       "8         NaN                  NaN  \n",
       "9         NaN                  NaN  \n",
       "10        NaN                  NaN  \n",
       "11        NaN                  NaN  \n",
       "12        NaN                  NaN  \n",
       "13        NaN                  NaN  \n",
       "14        NaN                  NaN  \n",
       "15        NaN                  NaN  \n",
       "16        NaN                  NaN  \n",
       "17         TX                 26.0  \n",
       "18        NaN                  NaN  \n",
       "19        NaN                  NaN  \n",
       "20        NaN                  NaN  \n",
       "21        NaN                  NaN  \n",
       "22        NaN                  NaN  \n",
       "23        NaN                  NaN  \n",
       "24        NaN                  NaN  \n",
       "25        NaN                  NaN  \n",
       "26        NaN                  NaN  \n",
       "27        NaN                  NaN  \n",
       "28        NaN                  NaN  \n",
       "29         GA                 44.0  "
      ]
     },
     "execution_count": 7,
     "metadata": {},
     "output_type": "execute_result"
    }
   ],
   "source": [
    "lightning_strikes_c = lightning_strikes.merge(lightning_strikes_p2, on=[\"date\", \"center_point_geom\"], how=\"left\")\n",
    "\n",
    "lightning_strikes_c.head(30)"
   ]
  },
  {
   "cell_type": "code",
   "execution_count": 8,
   "id": "14c38e9b",
   "metadata": {},
   "outputs": [
    {
     "data": {
      "text/html": [
       "<div>\n",
       "<style scoped>\n",
       "    .dataframe tbody tr th:only-of-type {\n",
       "        vertical-align: middle;\n",
       "    }\n",
       "\n",
       "    .dataframe tbody tr th {\n",
       "        vertical-align: top;\n",
       "    }\n",
       "\n",
       "    .dataframe thead th {\n",
       "        text-align: right;\n",
       "    }\n",
       "</style>\n",
       "<table border=\"1\" class=\"dataframe\">\n",
       "  <thead>\n",
       "    <tr style=\"text-align: right;\">\n",
       "      <th></th>\n",
       "      <th>longitude</th>\n",
       "      <th>latitude</th>\n",
       "      <th>number_of_strikes_x</th>\n",
       "      <th>zip_code</th>\n",
       "      <th>number_of_strikes_y</th>\n",
       "    </tr>\n",
       "  </thead>\n",
       "  <tbody>\n",
       "    <tr>\n",
       "      <th>count</th>\n",
       "      <td>717530.00</td>\n",
       "      <td>717530.00</td>\n",
       "      <td>717530.00</td>\n",
       "      <td>323700.00</td>\n",
       "      <td>323700.00</td>\n",
       "    </tr>\n",
       "    <tr>\n",
       "      <th>mean</th>\n",
       "      <td>-90.88</td>\n",
       "      <td>33.33</td>\n",
       "      <td>21.64</td>\n",
       "      <td>57931.96</td>\n",
       "      <td>25.41</td>\n",
       "    </tr>\n",
       "    <tr>\n",
       "      <th>std</th>\n",
       "      <td>13.65</td>\n",
       "      <td>7.94</td>\n",
       "      <td>48.03</td>\n",
       "      <td>22277.33</td>\n",
       "      <td>57.42</td>\n",
       "    </tr>\n",
       "    <tr>\n",
       "      <th>min</th>\n",
       "      <td>-133.90</td>\n",
       "      <td>16.60</td>\n",
       "      <td>1.00</td>\n",
       "      <td>1002.00</td>\n",
       "      <td>1.00</td>\n",
       "    </tr>\n",
       "    <tr>\n",
       "      <th>25%</th>\n",
       "      <td>-102.80</td>\n",
       "      <td>26.90</td>\n",
       "      <td>3.00</td>\n",
       "      <td>38260.75</td>\n",
       "      <td>3.00</td>\n",
       "    </tr>\n",
       "    <tr>\n",
       "      <th>50%</th>\n",
       "      <td>-90.30</td>\n",
       "      <td>33.20</td>\n",
       "      <td>6.00</td>\n",
       "      <td>59212.50</td>\n",
       "      <td>8.00</td>\n",
       "    </tr>\n",
       "    <tr>\n",
       "      <th>75%</th>\n",
       "      <td>-80.90</td>\n",
       "      <td>39.40</td>\n",
       "      <td>21.00</td>\n",
       "      <td>78642.00</td>\n",
       "      <td>24.00</td>\n",
       "    </tr>\n",
       "    <tr>\n",
       "      <th>max</th>\n",
       "      <td>-43.80</td>\n",
       "      <td>51.70</td>\n",
       "      <td>2211.00</td>\n",
       "      <td>99402.00</td>\n",
       "      <td>2211.00</td>\n",
       "    </tr>\n",
       "  </tbody>\n",
       "</table>\n",
       "</div>"
      ],
      "text/plain": [
       "       longitude   latitude  number_of_strikes_x   zip_code  \\\n",
       "count  717530.00  717530.00            717530.00  323700.00   \n",
       "mean      -90.88      33.33                21.64   57931.96   \n",
       "std        13.65       7.94                48.03   22277.33   \n",
       "min      -133.90      16.60                 1.00    1002.00   \n",
       "25%      -102.80      26.90                 3.00   38260.75   \n",
       "50%       -90.30      33.20                 6.00   59212.50   \n",
       "75%       -80.90      39.40                21.00   78642.00   \n",
       "max       -43.80      51.70              2211.00   99402.00   \n",
       "\n",
       "       number_of_strikes_y  \n",
       "count            323700.00  \n",
       "mean                 25.41  \n",
       "std                  57.42  \n",
       "min                   1.00  \n",
       "25%                   3.00  \n",
       "50%                   8.00  \n",
       "75%                  24.00  \n",
       "max                2211.00  "
      ]
     },
     "execution_count": 8,
     "metadata": {},
     "output_type": "execute_result"
    }
   ],
   "source": [
    "lightning_strikes_c.describe().round(2)"
   ]
  },
  {
   "cell_type": "code",
   "execution_count": 9,
   "id": "408e2078",
   "metadata": {},
   "outputs": [
    {
     "data": {
      "text/plain": [
       "(393830, 10)"
      ]
     },
     "execution_count": 9,
     "metadata": {},
     "output_type": "execute_result"
    }
   ],
   "source": [
    "# Check missing state locations\n",
    "\n",
    "lgh_null_state = lightning_strikes_c[ pd.isnull(lightning_strikes_c[\"state_code\"])]\n",
    "lgh_null_state.shape"
   ]
  },
  {
   "cell_type": "code",
   "execution_count": 10,
   "id": "e8320614",
   "metadata": {},
   "outputs": [
    {
     "name": "stdout",
     "output_type": "stream",
     "text": [
      "717530 323700 323700\n"
     ]
    }
   ],
   "source": [
    "lgh_p1_r_cnt = lightning_strikes.shape[0]\n",
    "lgh_p2_r_cnt = lightning_strikes_p2.shape[0]\n",
    "\n",
    "data_dff = lgh_p1_r_cnt - lgh_null_state.shape[0]\n",
    "print(lgh_p1_r_cnt,lgh_p2_r_cnt,data_dff) "
   ]
  },
  {
   "cell_type": "markdown",
   "id": "56690335",
   "metadata": {},
   "source": [
    "***\n",
    "\n",
    "In the dataset eda_missing_data_dataset1, is all the data stored, if the data that has a *Null* value in the state_code column is removed, we end with a shorter dataset that was stored as eda_missing_data_dataset2"
   ]
  },
  {
   "cell_type": "code",
   "execution_count": 11,
   "id": "dd5e65d1",
   "metadata": {},
   "outputs": [
    {
     "data": {
      "text/html": [
       "<div>\n",
       "<style scoped>\n",
       "    .dataframe tbody tr th:only-of-type {\n",
       "        vertical-align: middle;\n",
       "    }\n",
       "\n",
       "    .dataframe tbody tr th {\n",
       "        vertical-align: top;\n",
       "    }\n",
       "\n",
       "    .dataframe thead th {\n",
       "        text-align: right;\n",
       "    }\n",
       "</style>\n",
       "<table border=\"1\" class=\"dataframe\">\n",
       "  <thead>\n",
       "    <tr style=\"text-align: right;\">\n",
       "      <th></th>\n",
       "      <th>date</th>\n",
       "      <th>center_point_geom</th>\n",
       "      <th>longitude</th>\n",
       "      <th>latitude</th>\n",
       "      <th>number_of_strikes_x</th>\n",
       "      <th>zip_code</th>\n",
       "      <th>city</th>\n",
       "      <th>state</th>\n",
       "      <th>state_code</th>\n",
       "      <th>number_of_strikes_y</th>\n",
       "    </tr>\n",
       "  </thead>\n",
       "  <tbody>\n",
       "    <tr>\n",
       "      <th>0</th>\n",
       "      <td>2018-08-01</td>\n",
       "      <td>POINT(-81.6 22.6)</td>\n",
       "      <td>-81.6</td>\n",
       "      <td>22.6</td>\n",
       "      <td>48</td>\n",
       "      <td>NaN</td>\n",
       "      <td>NaN</td>\n",
       "      <td>NaN</td>\n",
       "      <td>NaN</td>\n",
       "      <td>NaN</td>\n",
       "    </tr>\n",
       "    <tr>\n",
       "      <th>1</th>\n",
       "      <td>2018-08-01</td>\n",
       "      <td>POINT(-81.1 22.6)</td>\n",
       "      <td>-81.1</td>\n",
       "      <td>22.6</td>\n",
       "      <td>32</td>\n",
       "      <td>NaN</td>\n",
       "      <td>NaN</td>\n",
       "      <td>NaN</td>\n",
       "      <td>NaN</td>\n",
       "      <td>NaN</td>\n",
       "    </tr>\n",
       "    <tr>\n",
       "      <th>2</th>\n",
       "      <td>2018-08-01</td>\n",
       "      <td>POINT(-80.9 22.6)</td>\n",
       "      <td>-80.9</td>\n",
       "      <td>22.6</td>\n",
       "      <td>118</td>\n",
       "      <td>NaN</td>\n",
       "      <td>NaN</td>\n",
       "      <td>NaN</td>\n",
       "      <td>NaN</td>\n",
       "      <td>NaN</td>\n",
       "    </tr>\n",
       "    <tr>\n",
       "      <th>3</th>\n",
       "      <td>2018-08-01</td>\n",
       "      <td>POINT(-80.8 22.6)</td>\n",
       "      <td>-80.8</td>\n",
       "      <td>22.6</td>\n",
       "      <td>69</td>\n",
       "      <td>NaN</td>\n",
       "      <td>NaN</td>\n",
       "      <td>NaN</td>\n",
       "      <td>NaN</td>\n",
       "      <td>NaN</td>\n",
       "    </tr>\n",
       "    <tr>\n",
       "      <th>4</th>\n",
       "      <td>2018-08-01</td>\n",
       "      <td>POINT(-98.4 22.8)</td>\n",
       "      <td>-98.4</td>\n",
       "      <td>22.8</td>\n",
       "      <td>44</td>\n",
       "      <td>NaN</td>\n",
       "      <td>NaN</td>\n",
       "      <td>NaN</td>\n",
       "      <td>NaN</td>\n",
       "      <td>NaN</td>\n",
       "    </tr>\n",
       "  </tbody>\n",
       "</table>\n",
       "</div>"
      ],
      "text/plain": [
       "         date  center_point_geom  longitude  latitude  number_of_strikes_x  \\\n",
       "0  2018-08-01  POINT(-81.6 22.6)      -81.6      22.6                   48   \n",
       "1  2018-08-01  POINT(-81.1 22.6)      -81.1      22.6                   32   \n",
       "2  2018-08-01  POINT(-80.9 22.6)      -80.9      22.6                  118   \n",
       "3  2018-08-01  POINT(-80.8 22.6)      -80.8      22.6                   69   \n",
       "4  2018-08-01  POINT(-98.4 22.8)      -98.4      22.8                   44   \n",
       "\n",
       "   zip_code city state state_code  number_of_strikes_y  \n",
       "0       NaN  NaN   NaN        NaN                  NaN  \n",
       "1       NaN  NaN   NaN        NaN                  NaN  \n",
       "2       NaN  NaN   NaN        NaN                  NaN  \n",
       "3       NaN  NaN   NaN        NaN                  NaN  \n",
       "4       NaN  NaN   NaN        NaN                  NaN  "
      ]
     },
     "execution_count": 11,
     "metadata": {},
     "output_type": "execute_result"
    }
   ],
   "source": [
    "lgh_null_state.head()"
   ]
  },
  {
   "cell_type": "code",
   "execution_count": 12,
   "id": "edbe17d8",
   "metadata": {},
   "outputs": [
    {
     "data": {
      "text/html": [
       "<div>\n",
       "<style scoped>\n",
       "    .dataframe tbody tr th:only-of-type {\n",
       "        vertical-align: middle;\n",
       "    }\n",
       "\n",
       "    .dataframe tbody tr th {\n",
       "        vertical-align: top;\n",
       "    }\n",
       "\n",
       "    .dataframe thead th {\n",
       "        text-align: right;\n",
       "    }\n",
       "</style>\n",
       "<table border=\"1\" class=\"dataframe\">\n",
       "  <thead>\n",
       "    <tr style=\"text-align: right;\">\n",
       "      <th></th>\n",
       "      <th>index</th>\n",
       "      <th>longitude</th>\n",
       "      <th>latitude</th>\n",
       "      <th>number_of_strikes_x</th>\n",
       "    </tr>\n",
       "  </thead>\n",
       "  <tbody>\n",
       "    <tr>\n",
       "      <th>0</th>\n",
       "      <td>38364</td>\n",
       "      <td>-84.2</td>\n",
       "      <td>22.4</td>\n",
       "      <td>3841</td>\n",
       "    </tr>\n",
       "    <tr>\n",
       "      <th>1</th>\n",
       "      <td>40312</td>\n",
       "      <td>-82.9</td>\n",
       "      <td>22.9</td>\n",
       "      <td>3184</td>\n",
       "    </tr>\n",
       "    <tr>\n",
       "      <th>2</th>\n",
       "      <td>38227</td>\n",
       "      <td>-84.3</td>\n",
       "      <td>22.4</td>\n",
       "      <td>2999</td>\n",
       "    </tr>\n",
       "    <tr>\n",
       "      <th>3</th>\n",
       "      <td>40155</td>\n",
       "      <td>-83.0</td>\n",
       "      <td>22.9</td>\n",
       "      <td>2754</td>\n",
       "    </tr>\n",
       "    <tr>\n",
       "      <th>4</th>\n",
       "      <td>38502</td>\n",
       "      <td>-84.1</td>\n",
       "      <td>22.5</td>\n",
       "      <td>2746</td>\n",
       "    </tr>\n",
       "    <tr>\n",
       "      <th>5</th>\n",
       "      <td>38365</td>\n",
       "      <td>-84.2</td>\n",
       "      <td>22.5</td>\n",
       "      <td>2738</td>\n",
       "    </tr>\n",
       "    <tr>\n",
       "      <th>6</th>\n",
       "      <td>43189</td>\n",
       "      <td>-81.0</td>\n",
       "      <td>22.3</td>\n",
       "      <td>2680</td>\n",
       "    </tr>\n",
       "    <tr>\n",
       "      <th>7</th>\n",
       "      <td>41097</td>\n",
       "      <td>-82.4</td>\n",
       "      <td>22.9</td>\n",
       "      <td>2652</td>\n",
       "    </tr>\n",
       "    <tr>\n",
       "      <th>8</th>\n",
       "      <td>41255</td>\n",
       "      <td>-82.3</td>\n",
       "      <td>22.9</td>\n",
       "      <td>2618</td>\n",
       "    </tr>\n",
       "    <tr>\n",
       "      <th>9</th>\n",
       "      <td>38226</td>\n",
       "      <td>-84.3</td>\n",
       "      <td>22.3</td>\n",
       "      <td>2551</td>\n",
       "    </tr>\n",
       "  </tbody>\n",
       "</table>\n",
       "</div>"
      ],
      "text/plain": [
       "   index  longitude  latitude  number_of_strikes_x\n",
       "0  38364      -84.2      22.4                 3841\n",
       "1  40312      -82.9      22.9                 3184\n",
       "2  38227      -84.3      22.4                 2999\n",
       "3  40155      -83.0      22.9                 2754\n",
       "4  38502      -84.1      22.5                 2746\n",
       "5  38365      -84.2      22.5                 2738\n",
       "6  43189      -81.0      22.3                 2680\n",
       "7  41097      -82.4      22.9                 2652\n",
       "8  41255      -82.3      22.9                 2618\n",
       "9  38226      -84.3      22.3                 2551"
      ]
     },
     "execution_count": 12,
     "metadata": {},
     "output_type": "execute_result"
    }
   ],
   "source": [
    "# Df of just latitude, longitude, and number of strikes and group by latitude and longitude\n",
    "top__striking_missing_states = lgh_null_state.groupby([\"longitude\",\"latitude\"],as_index=False)[\"number_of_strikes_x\"].sum().sort_values(by=\"number_of_strikes_x\",ascending= False).reset_index()\n",
    "top__striking_missing_states.head(10)"
   ]
  },
  {
   "cell_type": "code",
   "execution_count": 14,
   "id": "74088544",
   "metadata": {},
   "outputs": [
    {
     "data": {
      "application/vnd.plotly.v1+json": {
       "config": {
        "plotlyServerURL": "https://plot.ly"
       },
       "data": [
        {
         "geo": "geo",
         "hovertemplate": "number_of_strikes_x=%{marker.size}<br>latitude=%{lat}<br>longitude=%{lon}<extra></extra>",
         "lat": {
          "bdata": "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",
          "dtype": "f8"
         },
         "legendgroup": "",
         "lon": {
          "bdata": "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",
          "dtype": "f8"
         },
         "marker": {
          "color": "#636efa",
          "size": {
           "bdata": "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",
           "dtype": "i2"
          },
          "sizemode": "area",
          "sizeref": 9.6025,
          "symbol": "circle"
         },
         "mode": "markers",
         "name": "",
         "showlegend": false,
         "type": "scattergeo"
        }
       ],
       "layout": {
        "geo": {
         "center": {},
         "domain": {
          "x": [
           0,
           1
          ],
          "y": [
           0,
           1
          ]
         },
         "scope": "usa"
        },
        "legend": {
         "itemsizing": "constant",
         "tracegroupgap": 0
        },
        "margin": {
         "t": 60
        },
        "template": {
         "data": {
          "bar": [
           {
            "error_x": {
             "color": "#2a3f5f"
            },
            "error_y": {
             "color": "#2a3f5f"
            },
            "marker": {
             "line": {
              "color": "#E5ECF6",
              "width": 0.5
             },
             "pattern": {
              "fillmode": "overlay",
              "size": 10,
              "solidity": 0.2
             }
            },
            "type": "bar"
           }
          ],
          "barpolar": [
           {
            "marker": {
             "line": {
              "color": "#E5ECF6",
              "width": 0.5
             },
             "pattern": {
              "fillmode": "overlay",
              "size": 10,
              "solidity": 0.2
             }
            },
            "type": "barpolar"
           }
          ],
          "carpet": [
           {
            "aaxis": {
             "endlinecolor": "#2a3f5f",
             "gridcolor": "white",
             "linecolor": "white",
             "minorgridcolor": "white",
             "startlinecolor": "#2a3f5f"
            },
            "baxis": {
             "endlinecolor": "#2a3f5f",
             "gridcolor": "white",
             "linecolor": "white",
             "minorgridcolor": "white",
             "startlinecolor": "#2a3f5f"
            },
            "type": "carpet"
           }
          ],
          "choropleth": [
           {
            "colorbar": {
             "outlinewidth": 0,
             "ticks": ""
            },
            "type": "choropleth"
           }
          ],
          "contour": [
           {
            "colorbar": {
             "outlinewidth": 0,
             "ticks": ""
            },
            "colorscale": [
             [
              0,
              "#0d0887"
             ],
             [
              0.1111111111111111,
              "#46039f"
             ],
             [
              0.2222222222222222,
              "#7201a8"
             ],
             [
              0.3333333333333333,
              "#9c179e"
             ],
             [
              0.4444444444444444,
              "#bd3786"
             ],
             [
              0.5555555555555556,
              "#d8576b"
             ],
             [
              0.6666666666666666,
              "#ed7953"
             ],
             [
              0.7777777777777778,
              "#fb9f3a"
             ],
             [
              0.8888888888888888,
              "#fdca26"
             ],
             [
              1,
              "#f0f921"
             ]
            ],
            "type": "contour"
           }
          ],
          "contourcarpet": [
           {
            "colorbar": {
             "outlinewidth": 0,
             "ticks": ""
            },
            "type": "contourcarpet"
           }
          ],
          "heatmap": [
           {
            "colorbar": {
             "outlinewidth": 0,
             "ticks": ""
            },
            "colorscale": [
             [
              0,
              "#0d0887"
             ],
             [
              0.1111111111111111,
              "#46039f"
             ],
             [
              0.2222222222222222,
              "#7201a8"
             ],
             [
              0.3333333333333333,
              "#9c179e"
             ],
             [
              0.4444444444444444,
              "#bd3786"
             ],
             [
              0.5555555555555556,
              "#d8576b"
             ],
             [
              0.6666666666666666,
              "#ed7953"
             ],
             [
              0.7777777777777778,
              "#fb9f3a"
             ],
             [
              0.8888888888888888,
              "#fdca26"
             ],
             [
              1,
              "#f0f921"
             ]
            ],
            "type": "heatmap"
           }
          ],
          "histogram": [
           {
            "marker": {
             "pattern": {
              "fillmode": "overlay",
              "size": 10,
              "solidity": 0.2
             }
            },
            "type": "histogram"
           }
          ],
          "histogram2d": [
           {
            "colorbar": {
             "outlinewidth": 0,
             "ticks": ""
            },
            "colorscale": [
             [
              0,
              "#0d0887"
             ],
             [
              0.1111111111111111,
              "#46039f"
             ],
             [
              0.2222222222222222,
              "#7201a8"
             ],
             [
              0.3333333333333333,
              "#9c179e"
             ],
             [
              0.4444444444444444,
              "#bd3786"
             ],
             [
              0.5555555555555556,
              "#d8576b"
             ],
             [
              0.6666666666666666,
              "#ed7953"
             ],
             [
              0.7777777777777778,
              "#fb9f3a"
             ],
             [
              0.8888888888888888,
              "#fdca26"
             ],
             [
              1,
              "#f0f921"
             ]
            ],
            "type": "histogram2d"
           }
          ],
          "histogram2dcontour": [
           {
            "colorbar": {
             "outlinewidth": 0,
             "ticks": ""
            },
            "colorscale": [
             [
              0,
              "#0d0887"
             ],
             [
              0.1111111111111111,
              "#46039f"
             ],
             [
              0.2222222222222222,
              "#7201a8"
             ],
             [
              0.3333333333333333,
              "#9c179e"
             ],
             [
              0.4444444444444444,
              "#bd3786"
             ],
             [
              0.5555555555555556,
              "#d8576b"
             ],
             [
              0.6666666666666666,
              "#ed7953"
             ],
             [
              0.7777777777777778,
              "#fb9f3a"
             ],
             [
              0.8888888888888888,
              "#fdca26"
             ],
             [
              1,
              "#f0f921"
             ]
            ],
            "type": "histogram2dcontour"
           }
          ],
          "mesh3d": [
           {
            "colorbar": {
             "outlinewidth": 0,
             "ticks": ""
            },
            "type": "mesh3d"
           }
          ],
          "parcoords": [
           {
            "line": {
             "colorbar": {
              "outlinewidth": 0,
              "ticks": ""
             }
            },
            "type": "parcoords"
           }
          ],
          "pie": [
           {
            "automargin": true,
            "type": "pie"
           }
          ],
          "scatter": [
           {
            "fillpattern": {
             "fillmode": "overlay",
             "size": 10,
             "solidity": 0.2
            },
            "type": "scatter"
           }
          ],
          "scatter3d": [
           {
            "line": {
             "colorbar": {
              "outlinewidth": 0,
              "ticks": ""
             }
            },
            "marker": {
             "colorbar": {
              "outlinewidth": 0,
              "ticks": ""
             }
            },
            "type": "scatter3d"
           }
          ],
          "scattercarpet": [
           {
            "marker": {
             "colorbar": {
              "outlinewidth": 0,
              "ticks": ""
             }
            },
            "type": "scattercarpet"
           }
          ],
          "scattergeo": [
           {
            "marker": {
             "colorbar": {
              "outlinewidth": 0,
              "ticks": ""
             }
            },
            "type": "scattergeo"
           }
          ],
          "scattergl": [
           {
            "marker": {
             "colorbar": {
              "outlinewidth": 0,
              "ticks": ""
             }
            },
            "type": "scattergl"
           }
          ],
          "scattermap": [
           {
            "marker": {
             "colorbar": {
              "outlinewidth": 0,
              "ticks": ""
             }
            },
            "type": "scattermap"
           }
          ],
          "scattermapbox": [
           {
            "marker": {
             "colorbar": {
              "outlinewidth": 0,
              "ticks": ""
             }
            },
            "type": "scattermapbox"
           }
          ],
          "scatterpolar": [
           {
            "marker": {
             "colorbar": {
              "outlinewidth": 0,
              "ticks": ""
             }
            },
            "type": "scatterpolar"
           }
          ],
          "scatterpolargl": [
           {
            "marker": {
             "colorbar": {
              "outlinewidth": 0,
              "ticks": ""
             }
            },
            "type": "scatterpolargl"
           }
          ],
          "scatterternary": [
           {
            "marker": {
             "colorbar": {
              "outlinewidth": 0,
              "ticks": ""
             }
            },
            "type": "scatterternary"
           }
          ],
          "surface": [
           {
            "colorbar": {
             "outlinewidth": 0,
             "ticks": ""
            },
            "colorscale": [
             [
              0,
              "#0d0887"
             ],
             [
              0.1111111111111111,
              "#46039f"
             ],
             [
              0.2222222222222222,
              "#7201a8"
             ],
             [
              0.3333333333333333,
              "#9c179e"
             ],
             [
              0.4444444444444444,
              "#bd3786"
             ],
             [
              0.5555555555555556,
              "#d8576b"
             ],
             [
              0.6666666666666666,
              "#ed7953"
             ],
             [
              0.7777777777777778,
              "#fb9f3a"
             ],
             [
              0.8888888888888888,
              "#fdca26"
             ],
             [
              1,
              "#f0f921"
             ]
            ],
            "type": "surface"
           }
          ],
          "table": [
           {
            "cells": {
             "fill": {
              "color": "#EBF0F8"
             },
             "line": {
              "color": "white"
             }
            },
            "header": {
             "fill": {
              "color": "#C8D4E3"
             },
             "line": {
              "color": "white"
             }
            },
            "type": "table"
           }
          ]
         },
         "layout": {
          "annotationdefaults": {
           "arrowcolor": "#2a3f5f",
           "arrowhead": 0,
           "arrowwidth": 1
          },
          "autotypenumbers": "strict",
          "coloraxis": {
           "colorbar": {
            "outlinewidth": 0,
            "ticks": ""
           }
          },
          "colorscale": {
           "diverging": [
            [
             0,
             "#8e0152"
            ],
            [
             0.1,
             "#c51b7d"
            ],
            [
             0.2,
             "#de77ae"
            ],
            [
             0.3,
             "#f1b6da"
            ],
            [
             0.4,
             "#fde0ef"
            ],
            [
             0.5,
             "#f7f7f7"
            ],
            [
             0.6,
             "#e6f5d0"
            ],
            [
             0.7,
             "#b8e186"
            ],
            [
             0.8,
             "#7fbc41"
            ],
            [
             0.9,
             "#4d9221"
            ],
            [
             1,
             "#276419"
            ]
           ],
           "sequential": [
            [
             0,
             "#0d0887"
            ],
            [
             0.1111111111111111,
             "#46039f"
            ],
            [
             0.2222222222222222,
             "#7201a8"
            ],
            [
             0.3333333333333333,
             "#9c179e"
            ],
            [
             0.4444444444444444,
             "#bd3786"
            ],
            [
             0.5555555555555556,
             "#d8576b"
            ],
            [
             0.6666666666666666,
             "#ed7953"
            ],
            [
             0.7777777777777778,
             "#fb9f3a"
            ],
            [
             0.8888888888888888,
             "#fdca26"
            ],
            [
             1,
             "#f0f921"
            ]
           ],
           "sequentialminus": [
            [
             0,
             "#0d0887"
            ],
            [
             0.1111111111111111,
             "#46039f"
            ],
            [
             0.2222222222222222,
             "#7201a8"
            ],
            [
             0.3333333333333333,
             "#9c179e"
            ],
            [
             0.4444444444444444,
             "#bd3786"
            ],
            [
             0.5555555555555556,
             "#d8576b"
            ],
            [
             0.6666666666666666,
             "#ed7953"
            ],
            [
             0.7777777777777778,
             "#fb9f3a"
            ],
            [
             0.8888888888888888,
             "#fdca26"
            ],
            [
             1,
             "#f0f921"
            ]
           ]
          },
          "colorway": [
           "#636efa",
           "#EF553B",
           "#00cc96",
           "#ab63fa",
           "#FFA15A",
           "#19d3f3",
           "#FF6692",
           "#B6E880",
           "#FF97FF",
           "#FECB52"
          ],
          "font": {
           "color": "#2a3f5f"
          },
          "geo": {
           "bgcolor": "white",
           "lakecolor": "white",
           "landcolor": "#E5ECF6",
           "showlakes": true,
           "showland": true,
           "subunitcolor": "white"
          },
          "hoverlabel": {
           "align": "left"
          },
          "hovermode": "closest",
          "mapbox": {
           "style": "light"
          },
          "paper_bgcolor": "white",
          "plot_bgcolor": "#E5ECF6",
          "polar": {
           "angularaxis": {
            "gridcolor": "white",
            "linecolor": "white",
            "ticks": ""
           },
           "bgcolor": "#E5ECF6",
           "radialaxis": {
            "gridcolor": "white",
            "linecolor": "white",
            "ticks": ""
           }
          },
          "scene": {
           "xaxis": {
            "backgroundcolor": "#E5ECF6",
            "gridcolor": "white",
            "gridwidth": 2,
            "linecolor": "white",
            "showbackground": true,
            "ticks": "",
            "zerolinecolor": "white"
           },
           "yaxis": {
            "backgroundcolor": "#E5ECF6",
            "gridcolor": "white",
            "gridwidth": 2,
            "linecolor": "white",
            "showbackground": true,
            "ticks": "",
            "zerolinecolor": "white"
           },
           "zaxis": {
            "backgroundcolor": "#E5ECF6",
            "gridcolor": "white",
            "gridwidth": 2,
            "linecolor": "white",
            "showbackground": true,
            "ticks": "",
            "zerolinecolor": "white"
           }
          },
          "shapedefaults": {
           "line": {
            "color": "#2a3f5f"
           }
          },
          "ternary": {
           "aaxis": {
            "gridcolor": "white",
            "linecolor": "white",
            "ticks": ""
           },
           "baxis": {
            "gridcolor": "white",
            "linecolor": "white",
            "ticks": ""
           },
           "bgcolor": "#E5ECF6",
           "caxis": {
            "gridcolor": "white",
            "linecolor": "white",
            "ticks": ""
           }
          },
          "title": {
           "x": 0.05
          },
          "xaxis": {
           "automargin": true,
           "gridcolor": "white",
           "linecolor": "white",
           "ticks": "",
           "title": {
            "standoff": 15
           },
           "zerolinecolor": "white",
           "zerolinewidth": 2
          },
          "yaxis": {
           "automargin": true,
           "gridcolor": "white",
           "linecolor": "white",
           "ticks": "",
           "title": {
            "standoff": 15
           },
           "zerolinecolor": "white",
           "zerolinewidth": 2
          }
         }
        },
        "title": {
         "text": "Missing Data"
        }
       }
      }
     },
     "metadata": {},
     "output_type": "display_data"
    }
   ],
   "source": [
    "fig = px.scatter_geo(\n",
    "    top__striking_missing_states[top__striking_missing_states[\"number_of_strikes_x\"] >= 300],\n",
    "    lat = \"latitude\",\n",
    "    lon= \"longitude\",\n",
    "    size=\"number_of_strikes_x\"\n",
    ")\n",
    "\n",
    "fig.update_layout(\n",
    "    title_text = \"Missing Data\",\n",
    "    geo_scope = \"usa\"\n",
    ")\n",
    "\n",
    "fig.show()"
   ]
  }
 ],
 "metadata": {
  "kernelspec": {
   "display_name": "Python 3",
   "language": "python",
   "name": "python3"
  },
  "language_info": {
   "codemirror_mode": {
    "name": "ipython",
    "version": 3
   },
   "file_extension": ".py",
   "mimetype": "text/x-python",
   "name": "python",
   "nbconvert_exporter": "python",
   "pygments_lexer": "ipython3",
   "version": "3.12.10"
  }
 },
 "nbformat": 4,
 "nbformat_minor": 5
}
