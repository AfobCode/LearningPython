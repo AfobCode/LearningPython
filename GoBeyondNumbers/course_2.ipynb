{
 "cells": [
  {
   "cell_type": "markdown",
   "metadata": {},
   "source": [
    "***\n",
    "# Stratascartch \n",
    "## Find Students At Median Writing (MySQL)\n",
    "\n",
    "WITH ordered_sat AS (\n",
    "    SELECT student_id, sat_writing, ROW_NUMBER() OVER (ORDER BY sat_writing) rn\n",
    "    FROM sat_scores\n",
    "),\n",
    "middle_val as (\n",
    "    SELECT (COUNT(*)+1)/2 rn\n",
    "    FROM sat_scores\n",
    "),\n",
    "SELECT ordered_sat.student_id, ordered_sat.sat_writing, ordered_sat.rn\n",
    "FROM ordered_sat join middle_val\n",
    "ON ordered_sat.rn = middle_val.rn\n",
    "\n",
    "**************************\n",
    "\n",
    "WITH ordered_sat AS (\n",
    "    SELECT student_id, sat_writing, ROW_NUMBER() OVER (ORDER BY sat_writing) rn\n",
    "    FROM sat_scores\n",
    ")\n",
    "SELECT ordered_sat.student_id, ordered_sat.sat_writing, ordered_sat.rn\n",
    "FROM ordered_sat\n",
    "WHERE ordered_sat.rn IN ( SELECT (COUNT(*)+1)/2 rn FROM sat_scores)\n",
    "\n",
    "**************************\n",
    "WITH ordered_sat AS (\n",
    "    SELECT student_id, sat_writing, ROW_NUMBER() OVER (ORDER BY sat_writing) rn\n",
    "    FROM sat_scores\n",
    "), \n",
    "middle_val AS(\n",
    "    SELECT sat_writing sw\n",
    "    FROM ordered_sat\n",
    "    WHERE rn IN (SELECT (COUNT(*)+1)/2 rn FROM sat_scores)\n",
    ")\n",
    "SELECT ordered_sat.student_id\n",
    "FROM ordered_sat JOIN middle_val\n",
    "ON ordered_sat.sat_writing = middle_val.sw\n",
    "\n",
    "\n",
    "**************************\n",
    "with meddian_value as (\n",
    "    SELECT sat_writing, student_id, \n",
    "        PERCENT_RANK() OVER (ORDER BY sat_writing) AS median_writing\n",
    "    FROM sat_scores\n",
    ")\n",
    "SELECT student_id\n",
    "FROM meddian_value\n",
    "WHERE median_writing BETWEEN 0.48 and 0.5;\n",
    "**************************"
   ]
  },
  {
   "cell_type": "markdown",
   "metadata": {},
   "source": [
    "***\n",
    "# Google Course \n",
    "## Introduction to Python"
   ]
  },
  {
   "cell_type": "markdown",
   "metadata": {},
   "source": [
    "## Programming paradigm\n",
    "Programming languages can be object-oriented, functional, or imperative. Object-oriented programming languages are modeled around data objects. Functional programming languages are modeled around functions. Imperative languages are modeled around code statements that can alter the state of the program itself. "
   ]
  },
  {
   "cell_type": "code",
   "execution_count": null,
   "metadata": {},
   "outputs": [],
   "source": [
    "import numpy as np\n",
    "\n",
    "my_list = [np.nan, ]\n"
   ]
  }
 ],
 "metadata": {
  "language_info": {
   "name": "python"
  }
 },
 "nbformat": 4,
 "nbformat_minor": 2
}
